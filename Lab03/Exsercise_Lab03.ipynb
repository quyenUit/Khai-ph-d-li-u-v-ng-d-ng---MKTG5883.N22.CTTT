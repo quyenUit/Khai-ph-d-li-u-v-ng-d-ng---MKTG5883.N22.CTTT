{
  "nbformat": 4,
  "nbformat_minor": 0,
  "metadata": {
    "colab": {
      "private_outputs": true,
      "provenance": []
    },
    "kernelspec": {
      "name": "python3",
      "display_name": "Python 3"
    },
    "language_info": {
      "name": "python"
    }
  },
  "cells": [
    {
      "cell_type": "code",
      "execution_count": null,
      "metadata": {
        "id": "tGyCq7w2XSZu"
      },
      "outputs": [],
      "source": [
        "import matplotlib.pyplot as plt"
      ]
    },
    {
      "cell_type": "code",
      "source": [
        "%matplotlib inline"
      ],
      "metadata": {
        "id": "ZjhHO_5Ha3lY"
      },
      "execution_count": null,
      "outputs": []
    },
    {
      "cell_type": "code",
      "source": [
        "# 2. Basic example"
      ],
      "metadata": {
        "id": "kfOU78F6boMr"
      },
      "execution_count": null,
      "outputs": []
    },
    {
      "cell_type": "code",
      "source": [
        "import numpy as np\n",
        "x = np.linspace(0, 5, 11) \n",
        "y = x ** 2"
      ],
      "metadata": {
        "id": "U2RxLFOgbvTw"
      },
      "execution_count": null,
      "outputs": []
    },
    {
      "cell_type": "code",
      "source": [
        "x"
      ],
      "metadata": {
        "id": "4zPt13iZcYU6"
      },
      "execution_count": null,
      "outputs": []
    },
    {
      "cell_type": "code",
      "source": [
        "y"
      ],
      "metadata": {
        "id": "lZDQLtEhcaF7"
      },
      "execution_count": null,
      "outputs": []
    },
    {
      "cell_type": "code",
      "source": [
        "# 3. Basic Matplotlib Commands"
      ],
      "metadata": {
        "id": "cR-v2qZ8cboW"
      },
      "execution_count": null,
      "outputs": []
    },
    {
      "cell_type": "code",
      "source": [
        "plt.plot(x, y, 'r') # 'r is the color red\n",
        "plt.xlabel('X Axis Title Here')\n",
        "plt.ylabel('Y Axis Title Here')\n",
        "plt.title('String Title Here')\n",
        "plt.show()"
      ],
      "metadata": {
        "id": "PO8oliXucg6G"
      },
      "execution_count": null,
      "outputs": []
    },
    {
      "cell_type": "code",
      "source": [
        "# 4. Creating Multiplots on Same Canvas"
      ],
      "metadata": {
        "id": "e80W_6utdCpv"
      },
      "execution_count": null,
      "outputs": []
    },
    {
      "cell_type": "code",
      "source": [
        "# plt.subplot(nrows, ncols, plot_number)\n",
        "plt.subplot(1,2,1)\n",
        "plt.plot(x, y, 'r--') # More on color options later\n",
        "plt.subplot(1,2,2)\n",
        "plt.plot(y, x, 'g*-');"
      ],
      "metadata": {
        "id": "YgfryfMedHTV"
      },
      "execution_count": null,
      "outputs": []
    },
    {
      "cell_type": "code",
      "source": [
        "# 5. Object Oriented Method"
      ],
      "metadata": {
        "id": "2lc72cQUdtlC"
      },
      "execution_count": null,
      "outputs": []
    },
    {
      "cell_type": "code",
      "source": [
        "fig = plt.figure()\n",
        "axes = fig.add_axes([0.1, 0.1, 0.8, 0.8])\n",
        "axes.plot(x, y, 'b')\n",
        "axes.set_xlabel('Set X Label')\n",
        "axes.set_ylabel('Set Y Label')\n",
        "axes.set_title('Set Title')"
      ],
      "metadata": {
        "id": "NhKJbnw-dvst"
      },
      "execution_count": null,
      "outputs": []
    },
    {
      "cell_type": "code",
      "source": [
        "fig = plt.figure()\n",
        "axes1 = fig.add_axes([0.1, 0.1, 0.8, 0.8])\n",
        "axes2 = fig.add_axes([0.2, 0.5, 0.4, 0.3])\n",
        "\n",
        "axes1.plot(x, y, 'b')\n",
        "axes1.set_xlabel('X-label_axes2')\n",
        "axes1.set_ylabel('Y_label_axes2')\n",
        "axes2.set_title('Axes 2 Title')\n",
        "\n",
        "axes2.plot(y, x, 'r')\n",
        "axes2.set_xlabel('X_label_axes2')\n",
        "axes2.set_ylabel('Y_label_axes2')\n",
        "axes2.set_title('Axes 2 Title');"
      ],
      "metadata": {
        "id": "V80aXY6XeYxn"
      },
      "execution_count": null,
      "outputs": []
    },
    {
      "cell_type": "code",
      "source": [
        "# 6. Suplot()"
      ],
      "metadata": {
        "id": "s-98wAcQf-Wr"
      },
      "execution_count": null,
      "outputs": []
    },
    {
      "cell_type": "code",
      "source": [
        "fig, axes = plt.subplots()\n",
        "\n",
        "axes.plot(x, y, 'r')\n",
        "axes.set_xlabel('x')\n",
        "axes.set_ylabel('y')\n",
        "axes.set_title('title');"
      ],
      "metadata": {
        "id": "vO3oLX2egCQc"
      },
      "execution_count": null,
      "outputs": []
    },
    {
      "cell_type": "code",
      "source": [
        "fig, axes = plt.subplots(nrows=1, ncols=2)"
      ],
      "metadata": {
        "id": "lQTo-p-EgYuS"
      },
      "execution_count": null,
      "outputs": []
    },
    {
      "cell_type": "code",
      "source": [
        "axes"
      ],
      "metadata": {
        "id": "klQ1LGTrgk92"
      },
      "execution_count": null,
      "outputs": []
    },
    {
      "cell_type": "code",
      "source": [
        "for ax in axes:\n",
        "  ax.plot(x, y, 'b')\n",
        "  ax.set_ylabel('y')\n",
        "  ax.set_title('title')\n",
        "fig"
      ],
      "metadata": {
        "id": "N6HhGIN1gpl_"
      },
      "execution_count": null,
      "outputs": []
    },
    {
      "cell_type": "code",
      "source": [
        "fig, axes = plt.subplots(nrows=1, ncols=2)\n",
        "\n",
        "for ax in axes:\n",
        "  ax.plot(x, y, 'g')\n",
        "  ax.set_xlabel('x')\n",
        "  ax.set_ylabel('y')\n",
        "  ax.set_title('title')\n",
        "fig\n",
        "plt.tight_layout()  "
      ],
      "metadata": {
        "id": "eQ7eYIxUg7ib"
      },
      "execution_count": null,
      "outputs": []
    },
    {
      "cell_type": "code",
      "source": [
        "# 7. Figure size, aspect ratio and DPI"
      ],
      "metadata": {
        "id": "EvJb9ZCihVO9"
      },
      "execution_count": null,
      "outputs": []
    },
    {
      "cell_type": "code",
      "source": [
        "fig = plt.figure(figsize=(8,4), dpi=100)\n"
      ],
      "metadata": {
        "id": "0DvB3SuwhXlw"
      },
      "execution_count": null,
      "outputs": []
    },
    {
      "cell_type": "code",
      "source": [
        "fig, axes = plt.subplots(figsize=(12, 3))\n",
        "\n",
        "axes.plot(x, y, 'r')\n",
        "axes.set_xlabel('x')\n",
        "axes.set_ylabel('y')\n",
        "axes.set_title('title');"
      ],
      "metadata": {
        "id": "Ku-8XiEohmrZ"
      },
      "execution_count": null,
      "outputs": []
    },
    {
      "cell_type": "code",
      "source": [
        "fig.savefig(\"filename.png\")"
      ],
      "metadata": {
        "id": "asxuD7F0h7yn"
      },
      "execution_count": null,
      "outputs": []
    },
    {
      "cell_type": "code",
      "source": [
        "fig.savefig(\"filename.png\", dpi=200)"
      ],
      "metadata": {
        "id": "z3vG9iGyiN78"
      },
      "execution_count": null,
      "outputs": []
    },
    {
      "cell_type": "code",
      "source": [
        "# 9. Figure titles"
      ],
      "metadata": {
        "id": "5uyOFO0CiXUi"
      },
      "execution_count": null,
      "outputs": []
    },
    {
      "cell_type": "code",
      "source": [
        "ax.set_title(\"title\");"
      ],
      "metadata": {
        "id": "3KBhJSx8iYDL"
      },
      "execution_count": null,
      "outputs": []
    },
    {
      "cell_type": "code",
      "source": [
        "# 10. Axis labels"
      ],
      "metadata": {
        "id": "CO9pEcp5incP"
      },
      "execution_count": null,
      "outputs": []
    },
    {
      "cell_type": "code",
      "source": [
        "ax.set_xlabel(\"x\")\n",
        "ax.set_ylabel(\"y\")"
      ],
      "metadata": {
        "id": "X8zTUPXqicKA"
      },
      "execution_count": null,
      "outputs": []
    },
    {
      "cell_type": "code",
      "source": [
        "# 11. Legends"
      ],
      "metadata": {
        "id": "FmzwZpWGipTf"
      },
      "execution_count": null,
      "outputs": []
    },
    {
      "cell_type": "code",
      "source": [
        "fig = plt.figure()\n",
        "ax = fig.add_axes([0,0,1,1])\n",
        "\n",
        "ax.plot(x, x**2, label=\"x**2\")\n",
        "ax.plot(x, x**3, label=\"x**3\")\n",
        "ax.legend()"
      ],
      "metadata": {
        "id": "y-EYGLWHir9g"
      },
      "execution_count": null,
      "outputs": []
    },
    {
      "cell_type": "code",
      "source": [
        "# 12. Plot range"
      ],
      "metadata": {
        "id": "xbgfm8sljI4e"
      },
      "execution_count": null,
      "outputs": []
    },
    {
      "cell_type": "code",
      "source": [
        "fig, axes = plt.subplots(1, 3, figsize=(12, 4))\n",
        "\n",
        "axes[0].plot(x, x**2, x**3)\n",
        "axes[0].set_title(\"default axes ranges\")\n",
        "\n",
        "axes[1].plot(x, x**2, x, x**3)\n",
        "axes[1].axis('tight')\n",
        "axes[1].set_title(\"tight axes\")\n",
        "\n",
        "axes[2].plot(x, x**2, x, x**3)\n",
        "axes[2].set_ylim([0, 60])\n",
        "axes[2].set_xlim([2, 5])\n",
        "axes[2].set_title(\"custom axes range\")"
      ],
      "metadata": {
        "id": "6rPr6EO6jL_l"
      },
      "execution_count": null,
      "outputs": []
    },
    {
      "cell_type": "code",
      "source": [
        "# II. Seaborn\n",
        "#1. Load testing dataset"
      ],
      "metadata": {
        "id": "fsyMLnYajL1O"
      },
      "execution_count": null,
      "outputs": []
    },
    {
      "cell_type": "code",
      "source": [
        "import pandas as pd\n",
        "import matplotlib.pyplot as plt\n",
        "import matplotlib.image as mpimg\n",
        "import seaborn as sns\n",
        "%matplotlib inline\n",
        "\n",
        "sns.get_dataset_names()"
      ],
      "metadata": {
        "id": "G54VatewkJ5z"
      },
      "execution_count": null,
      "outputs": []
    },
    {
      "cell_type": "code",
      "source": [
        "tips = sns.load_dataset(\"tips\")\n",
        "tips.head()"
      ],
      "metadata": {
        "id": "ZZ97Do3wkjo_"
      },
      "execution_count": null,
      "outputs": []
    },
    {
      "cell_type": "code",
      "source": [
        "# 2. Scatter plot"
      ],
      "metadata": {
        "id": "yS-wJzCokred"
      },
      "execution_count": null,
      "outputs": []
    },
    {
      "cell_type": "code",
      "source": [
        "ax = sns.scatterplot(x=\"total_bill\", y=\"tip\", data=tips)"
      ],
      "metadata": {
        "id": "G7wekxwWkuzj"
      },
      "execution_count": null,
      "outputs": []
    },
    {
      "cell_type": "code",
      "source": [
        "sns.relplot(x=\"total_bill\", y=\"tip\", data=tips, kind=\"scatter\",\n",
        "            hue=\"sex\", size=\"size\"\n",
        "            ,)"
      ],
      "metadata": {
        "id": "Qf39Cbjkk6mA"
      },
      "execution_count": null,
      "outputs": []
    },
    {
      "cell_type": "code",
      "source": [
        "# 3. Categorical functions"
      ],
      "metadata": {
        "id": "ssTWOkpBliTi"
      },
      "execution_count": null,
      "outputs": []
    },
    {
      "cell_type": "code",
      "source": [
        "sns.catplot(x='sex', y='total_bill', hue='day', data=tips, kind='strip')"
      ],
      "metadata": {
        "id": "f6fafZk7lkLX"
      },
      "execution_count": null,
      "outputs": []
    },
    {
      "cell_type": "code",
      "source": [
        "sns.catplot(x='sex', y=\"total_bill\", hue=\"day\", data=tips, kind=\"box\")"
      ],
      "metadata": {
        "id": "Nrd9lL9flxIt"
      },
      "execution_count": null,
      "outputs": []
    },
    {
      "cell_type": "markdown",
      "source": [
        "# III. Exercises"
      ],
      "metadata": {
        "id": "jzVxR8VeGXVd"
      }
    },
    {
      "cell_type": "code",
      "source": [
        "import matplotlib.pyplot as plt\n",
        "import seaborn as sns\n",
        "import pandas as pd\n",
        "\n",
        "df = pd.read_csv('/content/drive/MyDrive/Colab_Notebooks/Data_Mining/Thuc_hanh/job-market.csv')\n",
        "df.head()"
      ],
      "metadata": {
        "id": "9-PmqyOqnhNP"
      },
      "execution_count": null,
      "outputs": []
    },
    {
      "cell_type": "code",
      "source": [
        "jobs_by_location = df.groupby('Location')['Title'].count().sort_values(ascending = False)\n",
        "jobs_by_location"
      ],
      "metadata": {
        "id": "EaUeBNZLpkg2"
      },
      "execution_count": null,
      "outputs": []
    },
    {
      "cell_type": "code",
      "source": [
        "sns.set(style=\"whitegrid\")\n",
        "plt.figure(figsize=(20, 20))\n",
        "sns.barplot(y=jobs_by_location.index, x=jobs_by_location.values)\n",
        "plt.title('Number of job by Classification')\n",
        "plt.xlabel('Number of job')\n",
        "plt.ylabel('Jobs')\n",
        "plt.show()"
      ],
      "metadata": {
        "id": "2DTFOlHBvREk"
      },
      "execution_count": null,
      "outputs": []
    },
    {
      "cell_type": "code",
      "source": [
        "df['salary_range'] = pd.cut(df['HighestSalary'], bins=[0,30,40,50,60])\n",
        "\n",
        "df['mean_salary'] = (df['LowestSalary'] + df['HighestSalary']) / 2\n",
        "\n",
        "counts = df.groupby('salary_range').size().reset_index(name='count')\n",
        "\n",
        "counts"
      ],
      "metadata": {
        "id": "fwm9fkMwvSfB"
      },
      "execution_count": null,
      "outputs": []
    },
    {
      "cell_type": "code",
      "source": [
        "plt.figure(figsize=(8, 8))\n",
        "plt.title('Job Posts by Salary Range')\n",
        "sns.set_palette('pastel')\n",
        "plt.pie(counts['count'], labels=counts['salary_range'], autopct='%1.1f%%')\n",
        "plt.show()"
      ],
      "metadata": {
        "id": "_idVrRJhHZEP"
      },
      "execution_count": null,
      "outputs": []
    },
    {
      "cell_type": "code",
      "source": [
        "jobs_by_company = df.groupby('Area')['Title'].count()\n",
        "\n",
        "sns.set(style=\"whitegrid\")\n",
        "plt.figure(figsize=(10, 10))\n",
        "sns.barplot(y=jobs_by_company.values, x=jobs_by_company.index)\n",
        "plt.title('Job by Company')\n",
        "plt.xlabel('Number of job')\n",
        "plt.xticks(rotation=90)\n",
        "plt.ylabel('Jobs')\n",
        "plt.show()"
      ],
      "metadata": {
        "id": "TSyounAUHj0P"
      },
      "execution_count": null,
      "outputs": []
    },
    {
      "cell_type": "markdown",
      "source": [
        "2. Data Correlation (Advanced and Optional)"
      ],
      "metadata": {
        "id": "RLvE8npmHqwi"
      }
    },
    {
      "cell_type": "code",
      "source": [
        "df2 = pd.read_csv(\"/content/drive/MyDrive/Colab_Notebooks/Data_Mining/Thuc_hanh/wine.data.csv\")\n",
        "df2.head(10)"
      ],
      "metadata": {
        "id": "ztT5CIFSHrsG"
      },
      "execution_count": null,
      "outputs": []
    },
    {
      "cell_type": "code",
      "source": [
        "label = df2.iloc[:, 0]\n",
        "data = df2.iloc[:, 1:]"
      ],
      "metadata": {
        "id": "YT_1cDiZH8VA"
      },
      "execution_count": null,
      "outputs": []
    },
    {
      "cell_type": "code",
      "source": [
        "sns.set(style='ticks')\n",
        "sns.pairplot(data)\n",
        "plt.show()"
      ],
      "metadata": {
        "id": "L2PRxQmqIAPM"
      },
      "execution_count": null,
      "outputs": []
    },
    {
      "cell_type": "code",
      "source": [
        "corr_matrix = data.corr()\n",
        "\n",
        "plt.figure(figsize=(10, 8))\n",
        "sns.heatmap(corr_matrix, cmap='coolwarm', annot=True)\n",
        "plt.title('Correlation Heatmap')\n",
        "plt.show()"
      ],
      "metadata": {
        "id": "QMdy5YajIWFz"
      },
      "execution_count": null,
      "outputs": []
    },
    {
      "cell_type": "code",
      "source": [
        "from sklearn.preprocessing import StandardScaler"
      ],
      "metadata": {
        "id": "jav0zOKGKBId"
      },
      "execution_count": null,
      "outputs": []
    },
    {
      "cell_type": "code",
      "source": [
        "scaler = StandardScaler()\n",
        "wine_scaled = scaler.fit_transform(df2)"
      ],
      "metadata": {
        "id": "uI9YKCnBIe4q"
      },
      "execution_count": null,
      "outputs": []
    },
    {
      "cell_type": "code",
      "source": [
        "!pip3 install KMeans"
      ],
      "metadata": {
        "id": "yoOD5XhULVzJ"
      },
      "execution_count": null,
      "outputs": []
    },
    {
      "cell_type": "code",
      "source": [
        "from sklearn.cluster import KMeans"
      ],
      "metadata": {
        "id": "CdztJByxLv_V"
      },
      "execution_count": null,
      "outputs": []
    },
    {
      "cell_type": "code",
      "source": [
        "kmeans = KMeans(n_clusters=3, random_state=0)\n",
        "wine_clusters = kmeans.fit_predict(wine_scaled)"
      ],
      "metadata": {
        "id": "UQHmCxiJIsGn"
      },
      "execution_count": null,
      "outputs": []
    },
    {
      "cell_type": "code",
      "source": [
        "df2['cluster'] = wine_clusters"
      ],
      "metadata": {
        "id": "Gdk_xA0qIx7i"
      },
      "execution_count": null,
      "outputs": []
    },
    {
      "cell_type": "code",
      "source": [
        "sns.pairplot(df2, hue='cluster',diag_kind=\"hist\")"
      ],
      "metadata": {
        "id": "6HIhV9jRI24d"
      },
      "execution_count": null,
      "outputs": []
    }
  ]
}