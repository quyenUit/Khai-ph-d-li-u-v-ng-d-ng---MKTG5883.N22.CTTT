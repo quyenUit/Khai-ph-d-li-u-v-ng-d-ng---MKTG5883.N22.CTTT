{
  "cells": [
    {
      "cell_type": "markdown",
      "metadata": {
        "id": "32SXsEXJfrjJ"
      },
      "source": [
        "# Similarity"
      ]
    },
    {
      "cell_type": "markdown",
      "metadata": {
        "id": "yVgn2_iafrj3"
      },
      "source": [
        "We will work on applying similarity: Jaccard and Cosine similarity. This exercise is a simple application of the lecture."
      ]
    },
    {
      "cell_type": "markdown",
      "metadata": {
        "id": "0hpQgyQbfrj8"
      },
      "source": [
        "Begin by importing the needed libraries:"
      ]
    },
    {
      "cell_type": "code",
      "execution_count": 1,
      "metadata": {
        "id": "yqDY4Wf3frj_"
      },
      "outputs": [],
      "source": [
        "# import needed libraries\n",
        "import nltk\n",
        "import numpy as np\n",
        "import pandas as pd"
      ]
    },
    {
      "cell_type": "code",
      "source": [
        "from google.colab import drive\n",
        "drive.mount('/content/drive')"
      ],
      "metadata": {
        "colab": {
          "base_uri": "https://localhost:8080/"
        },
        "id": "vbY31SnOfyE5",
        "outputId": "1dc2f200-948a-40d6-b77a-f9efb42d9578"
      },
      "execution_count": 2,
      "outputs": [
        {
          "output_type": "stream",
          "name": "stdout",
          "text": [
            "Mounted at /content/drive\n"
          ]
        }
      ]
    },
    {
      "cell_type": "markdown",
      "metadata": {
        "id": "kbo40drdfrkF"
      },
      "source": [
        "We will work with the following examples:"
      ]
    },
    {
      "cell_type": "code",
      "execution_count": 3,
      "metadata": {
        "id": "OsYROTYVfrkJ"
      },
      "outputs": [],
      "source": [
        "A = \"Outside the classroom, Stallman pursued his studies with even more diligence, rushing off to fulfill his laboratory-assistant duties at Rockefeller University during the week and dodging the Vietnam protesters on his way to Saturday school at Columbia. It was there, while the rest of the Science Honors Program students sat around discussing their college choices, that Stallman finally took a moment to participate in the preclass bull session.\"\n",
        "B = \"To facilitate the process, AI Lab hackers had built a system that displayed both the source and display modes on a split screen. Despite this innovative hack, switching from mode to mode was still a nuisance.\"\n",
        "C = \"With no dorm and no dancing, Stallman's social universe imploded. Like an astronaut experiencing the aftereffects of zero-gravity, Stallman found that his ability to interact with nonhackers, especially female nonhackers, had atrophied significantly. After 16 weeks in the AI Lab, the self confidence he'd been quietly accumulating during his 4 years at Harvard was virtually gone.\""
      ]
    },
    {
      "cell_type": "markdown",
      "metadata": {
        "id": "5UKEhXC6frkM"
      },
      "source": [
        "Begin by computing the Jaccard Similarity J of all possibilities:\n",
        "* J(A, B)\n",
        "* J(B, C)\n",
        "* J(A, C)"
      ]
    },
    {
      "cell_type": "code",
      "execution_count": null,
      "metadata": {
        "id": "Ii5DGug4frkO"
      },
      "outputs": [],
      "source": [
        "# TODO: compute the Jaccard similarities\n",
        "# Split the sentences\n",
        "\n",
        "# Compute the intersection and union\n",
        "\n",
        "# Compute and print the Jaccard Similarity\n",
        "\n",
        "# Define the three sets of words\n",
        "\n",
        "\n",
        "# Compute the Jaccard Similarity between sets AB, BC, and AC\n",
        "jaccard_similarity_AB = len(A.string(B)) / len(A.union(B))\n",
        "jaccard_similarity_BC = len(B.string(C)) / len(B.union(C))\n",
        "jaccard_similarity_AC = len(A.string(C)) / len(A.union(C))\n",
        "\n",
        "# Print the Jaccard Similarity between sets AB, BC, and AC\n",
        "print(\"Jaccard Similarity AB: \", jaccard_similarity_AB)\n",
        "print(\"Jaccard Similarity BC: \", jaccard_similarity_BC)\n",
        "print(\"Jaccard Similarity AC: \", jaccard_similarity_AC)"
      ]
    },
    {
      "cell_type": "markdown",
      "metadata": {
        "id": "xpt1i9MDfrkR"
      },
      "source": [
        "What are the closest to the other according to Jaccard Similarity?\n",
        "\n",
        "Now let's do the same using TF-IDF and Cosine Similarity. Compute the TF-IDF and cosine similarities and print them."
      ]
    },
    {
      "cell_type": "code",
      "execution_count": 9,
      "metadata": {
        "scrolled": true,
        "colab": {
          "base_uri": "https://localhost:8080/"
        },
        "id": "uU90j6DafrkT",
        "outputId": "6eab59d3-cf2f-48ed-a546-dfc024a2c318"
      },
      "outputs": [
        {
          "output_type": "stream",
          "name": "stdout",
          "text": [
            "cos(A, B): 0.16793269576264072\n",
            "cos(B, C): 0.13618963113796592\n",
            "cos(A, C): 0.2850296032333907\n"
          ]
        }
      ],
      "source": [
        "# TODO: compute the TF-IDF of A, B and C and the cosine similarities of all possibilities\n",
        "\n",
        "from sklearn.feature_extraction.text import TfidfVectorizer\n",
        "from sklearn.metrics.pairwise import cosine_similarity\n",
        "\n",
        "\n",
        "\n",
        "# Create a TfidfVectorizer object\n",
        "vectorizer = TfidfVectorizer()\n",
        "\n",
        "# Compute the TF-IDF matrix\n",
        "tfidf_matrix = vectorizer.fit_transform([A, B, C])\n",
        "\n",
        "# Compute the cosine similarities between all pairs\n",
        "cosine_sim_AB = cosine_similarity(tfidf_matrix[0], tfidf_matrix[1])[0][0]\n",
        "cosine_sim_BC = cosine_similarity(tfidf_matrix[1], tfidf_matrix[2])[0][0]\n",
        "cosine_sim_AC = cosine_similarity(tfidf_matrix[0], tfidf_matrix[2])[0][0]\n",
        "\n",
        "# Print the TF-IDF matrix and cosine similarities\n",
        "# print(\"TF-IDF matrix:\")\n",
        "# print(tfidf_matrix.toarray())\n",
        "print(\"cos(A, B):\", cosine_sim_AB)\n",
        "print(\"cos(B, C):\", cosine_sim_BC)\n",
        "print(\"cos(A, C):\", cosine_sim_AC)\n"
      ]
    },
    {
      "cell_type": "markdown",
      "metadata": {
        "id": "5Dij4aH_frkU"
      },
      "source": [
        "Is it consistent with the Jaccard values?"
      ]
    }
  ],
  "metadata": {
    "kernelspec": {
      "display_name": "Python 3 (ipykernel)",
      "language": "python",
      "name": "python3"
    },
    "language_info": {
      "codemirror_mode": {
        "name": "ipython",
        "version": 3
      },
      "file_extension": ".py",
      "mimetype": "text/x-python",
      "name": "python",
      "nbconvert_exporter": "python",
      "pygments_lexer": "ipython3",
      "version": "3.9.7"
    },
    "toc": {
      "base_numbering": 1,
      "nav_menu": {},
      "number_sections": true,
      "sideBar": true,
      "skip_h1_title": false,
      "title_cell": "Table of Contents",
      "title_sidebar": "Contents",
      "toc_cell": false,
      "toc_position": {},
      "toc_section_display": true,
      "toc_window_display": false
    },
    "colab": {
      "provenance": []
    }
  },
  "nbformat": 4,
  "nbformat_minor": 0
}