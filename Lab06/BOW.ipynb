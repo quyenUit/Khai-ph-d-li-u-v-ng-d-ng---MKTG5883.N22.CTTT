{
  "cells": [
    {
      "cell_type": "markdown",
      "metadata": {
        "id": "JGoNh9xTcGNO"
      },
      "source": [
        "# 02-BOW"
      ]
    },
    {
      "cell_type": "markdown",
      "metadata": {
        "id": "0HPpMddlcGOE"
      },
      "source": [
        "Now that we master the preprocessing, let's make our first Bag Of Words (BOW)."
      ]
    },
    {
      "cell_type": "markdown",
      "metadata": {
        "id": "ZWYKKTyCcGOH"
      },
      "source": [
        "We will reuse our dataset of Coldplay songs to make a BOW."
      ]
    },
    {
      "cell_type": "markdown",
      "metadata": {
        "id": "XXWwjgrTcGOK"
      },
      "source": [
        "As usual, the first step is to import some libraries. So import *nltk* as well as all the libraries you will need."
      ]
    },
    {
      "cell_type": "code",
      "execution_count": 1,
      "metadata": {
        "id": "_gC9Zk7CcGOO"
      },
      "outputs": [],
      "source": [
        "# Import NLTK and all the needed libraries\n",
        "import nltk\n",
        "import numpy as np\n",
        "import pandas as pd\n",
        "from sklearn.feature_extraction.text import CountVectorizer"
      ]
    },
    {
      "cell_type": "code",
      "source": [
        "from google.colab import drive\n",
        "drive.mount('/content/drive')"
      ],
      "metadata": {
        "colab": {
          "base_uri": "https://localhost:8080/"
        },
        "id": "3KAv64iPcO5i",
        "outputId": "36f29ead-7871-4730-fc44-57b3ba2b1695"
      },
      "execution_count": 2,
      "outputs": [
        {
          "output_type": "stream",
          "name": "stdout",
          "text": [
            "Mounted at /content/drive\n"
          ]
        }
      ]
    },
    {
      "cell_type": "markdown",
      "metadata": {
        "id": "VA3r2F24cGOU"
      },
      "source": [
        "Load now the dataset in *coldplay.csv* using pandas."
      ]
    },
    {
      "cell_type": "code",
      "execution_count": 3,
      "metadata": {
        "colab": {
          "base_uri": "https://localhost:8080/",
          "height": 206
        },
        "id": "sS7MiJqicGOY",
        "outputId": "3b540a46-40cb-40c0-e0c7-665e1a562c2b"
      },
      "outputs": [
        {
          "output_type": "execute_result",
          "data": {
            "text/plain": [
              "     Artist                           Song  \\\n",
              "0  Coldplay                 Another's Arms   \n",
              "1  Coldplay                Bigger Stronger   \n",
              "2  Coldplay                       Daylight   \n",
              "3  Coldplay                       Everglow   \n",
              "4  Coldplay  Every Teardrop Is A Waterfall   \n",
              "\n",
              "                                                Link  \\\n",
              "0            /c/coldplay/anothers+arms_21079526.html   \n",
              "1          /c/coldplay/bigger+stronger_20032648.html   \n",
              "2                 /c/coldplay/daylight_20032625.html   \n",
              "3                 /c/coldplay/everglow_21104546.html   \n",
              "4  /c/coldplay/every+teardrop+is+a+waterfall_2091...   \n",
              "\n",
              "                                              Lyrics  \n",
              "0  Late night watching tv  \\nUsed to be you here ...  \n",
              "1  I want to be bigger stronger drive a faster ca...  \n",
              "2  To my surprise, and my delight  \\nI saw sunris...  \n",
              "3  Oh, they say people come  \\nThey say people go...  \n",
              "4  I turn the music up, I got my records on  \\nI ...  "
            ],
            "text/html": [
              "\n",
              "  <div id=\"df-2a9c6e13-6775-482d-aa16-2aea254f62ad\">\n",
              "    <div class=\"colab-df-container\">\n",
              "      <div>\n",
              "<style scoped>\n",
              "    .dataframe tbody tr th:only-of-type {\n",
              "        vertical-align: middle;\n",
              "    }\n",
              "\n",
              "    .dataframe tbody tr th {\n",
              "        vertical-align: top;\n",
              "    }\n",
              "\n",
              "    .dataframe thead th {\n",
              "        text-align: right;\n",
              "    }\n",
              "</style>\n",
              "<table border=\"1\" class=\"dataframe\">\n",
              "  <thead>\n",
              "    <tr style=\"text-align: right;\">\n",
              "      <th></th>\n",
              "      <th>Artist</th>\n",
              "      <th>Song</th>\n",
              "      <th>Link</th>\n",
              "      <th>Lyrics</th>\n",
              "    </tr>\n",
              "  </thead>\n",
              "  <tbody>\n",
              "    <tr>\n",
              "      <th>0</th>\n",
              "      <td>Coldplay</td>\n",
              "      <td>Another's Arms</td>\n",
              "      <td>/c/coldplay/anothers+arms_21079526.html</td>\n",
              "      <td>Late night watching tv  \\nUsed to be you here ...</td>\n",
              "    </tr>\n",
              "    <tr>\n",
              "      <th>1</th>\n",
              "      <td>Coldplay</td>\n",
              "      <td>Bigger Stronger</td>\n",
              "      <td>/c/coldplay/bigger+stronger_20032648.html</td>\n",
              "      <td>I want to be bigger stronger drive a faster ca...</td>\n",
              "    </tr>\n",
              "    <tr>\n",
              "      <th>2</th>\n",
              "      <td>Coldplay</td>\n",
              "      <td>Daylight</td>\n",
              "      <td>/c/coldplay/daylight_20032625.html</td>\n",
              "      <td>To my surprise, and my delight  \\nI saw sunris...</td>\n",
              "    </tr>\n",
              "    <tr>\n",
              "      <th>3</th>\n",
              "      <td>Coldplay</td>\n",
              "      <td>Everglow</td>\n",
              "      <td>/c/coldplay/everglow_21104546.html</td>\n",
              "      <td>Oh, they say people come  \\nThey say people go...</td>\n",
              "    </tr>\n",
              "    <tr>\n",
              "      <th>4</th>\n",
              "      <td>Coldplay</td>\n",
              "      <td>Every Teardrop Is A Waterfall</td>\n",
              "      <td>/c/coldplay/every+teardrop+is+a+waterfall_2091...</td>\n",
              "      <td>I turn the music up, I got my records on  \\nI ...</td>\n",
              "    </tr>\n",
              "  </tbody>\n",
              "</table>\n",
              "</div>\n",
              "      <button class=\"colab-df-convert\" onclick=\"convertToInteractive('df-2a9c6e13-6775-482d-aa16-2aea254f62ad')\"\n",
              "              title=\"Convert this dataframe to an interactive table.\"\n",
              "              style=\"display:none;\">\n",
              "        \n",
              "  <svg xmlns=\"http://www.w3.org/2000/svg\" height=\"24px\"viewBox=\"0 0 24 24\"\n",
              "       width=\"24px\">\n",
              "    <path d=\"M0 0h24v24H0V0z\" fill=\"none\"/>\n",
              "    <path d=\"M18.56 5.44l.94 2.06.94-2.06 2.06-.94-2.06-.94-.94-2.06-.94 2.06-2.06.94zm-11 1L8.5 8.5l.94-2.06 2.06-.94-2.06-.94L8.5 2.5l-.94 2.06-2.06.94zm10 10l.94 2.06.94-2.06 2.06-.94-2.06-.94-.94-2.06-.94 2.06-2.06.94z\"/><path d=\"M17.41 7.96l-1.37-1.37c-.4-.4-.92-.59-1.43-.59-.52 0-1.04.2-1.43.59L10.3 9.45l-7.72 7.72c-.78.78-.78 2.05 0 2.83L4 21.41c.39.39.9.59 1.41.59.51 0 1.02-.2 1.41-.59l7.78-7.78 2.81-2.81c.8-.78.8-2.07 0-2.86zM5.41 20L4 18.59l7.72-7.72 1.47 1.35L5.41 20z\"/>\n",
              "  </svg>\n",
              "      </button>\n",
              "      \n",
              "  <style>\n",
              "    .colab-df-container {\n",
              "      display:flex;\n",
              "      flex-wrap:wrap;\n",
              "      gap: 12px;\n",
              "    }\n",
              "\n",
              "    .colab-df-convert {\n",
              "      background-color: #E8F0FE;\n",
              "      border: none;\n",
              "      border-radius: 50%;\n",
              "      cursor: pointer;\n",
              "      display: none;\n",
              "      fill: #1967D2;\n",
              "      height: 32px;\n",
              "      padding: 0 0 0 0;\n",
              "      width: 32px;\n",
              "    }\n",
              "\n",
              "    .colab-df-convert:hover {\n",
              "      background-color: #E2EBFA;\n",
              "      box-shadow: 0px 1px 2px rgba(60, 64, 67, 0.3), 0px 1px 3px 1px rgba(60, 64, 67, 0.15);\n",
              "      fill: #174EA6;\n",
              "    }\n",
              "\n",
              "    [theme=dark] .colab-df-convert {\n",
              "      background-color: #3B4455;\n",
              "      fill: #D2E3FC;\n",
              "    }\n",
              "\n",
              "    [theme=dark] .colab-df-convert:hover {\n",
              "      background-color: #434B5C;\n",
              "      box-shadow: 0px 1px 3px 1px rgba(0, 0, 0, 0.15);\n",
              "      filter: drop-shadow(0px 1px 2px rgba(0, 0, 0, 0.3));\n",
              "      fill: #FFFFFF;\n",
              "    }\n",
              "  </style>\n",
              "\n",
              "      <script>\n",
              "        const buttonEl =\n",
              "          document.querySelector('#df-2a9c6e13-6775-482d-aa16-2aea254f62ad button.colab-df-convert');\n",
              "        buttonEl.style.display =\n",
              "          google.colab.kernel.accessAllowed ? 'block' : 'none';\n",
              "\n",
              "        async function convertToInteractive(key) {\n",
              "          const element = document.querySelector('#df-2a9c6e13-6775-482d-aa16-2aea254f62ad');\n",
              "          const dataTable =\n",
              "            await google.colab.kernel.invokeFunction('convertToInteractive',\n",
              "                                                     [key], {});\n",
              "          if (!dataTable) return;\n",
              "\n",
              "          const docLinkHtml = 'Like what you see? Visit the ' +\n",
              "            '<a target=\"_blank\" href=https://colab.research.google.com/notebooks/data_table.ipynb>data table notebook</a>'\n",
              "            + ' to learn more about interactive tables.';\n",
              "          element.innerHTML = '';\n",
              "          dataTable['output_type'] = 'display_data';\n",
              "          await google.colab.output.renderOutput(dataTable, element);\n",
              "          const docLink = document.createElement('div');\n",
              "          docLink.innerHTML = docLinkHtml;\n",
              "          element.appendChild(docLink);\n",
              "        }\n",
              "      </script>\n",
              "    </div>\n",
              "  </div>\n",
              "  "
            ]
          },
          "metadata": {},
          "execution_count": 3
        }
      ],
      "source": [
        "# TODO: Load the dataset in coldplay.csv\n",
        "data = pd.read_csv('/content/drive/MyDrive/Colab_Notebooks/Data_Mining/Thuc_hanh/notebooks and data/coldplay.csv')\n",
        "data.head()"
      ]
    },
    {
      "cell_type": "markdown",
      "metadata": {
        "id": "Vz_TwAFZcGOg"
      },
      "source": [
        "You already know this dataset, but you can check it again if you want to refresh your memory."
      ]
    },
    {
      "cell_type": "code",
      "execution_count": 4,
      "metadata": {
        "scrolled": false,
        "colab": {
          "base_uri": "https://localhost:8080/"
        },
        "id": "KaH1G90gcGOk",
        "outputId": "167db153-079f-4d12-f311-a311f3b123f8"
      },
      "outputs": [
        {
          "output_type": "stream",
          "name": "stdout",
          "text": [
            "<class 'pandas.core.frame.DataFrame'>\n",
            "RangeIndex: 120 entries, 0 to 119\n",
            "Data columns (total 4 columns):\n",
            " #   Column  Non-Null Count  Dtype \n",
            "---  ------  --------------  ----- \n",
            " 0   Artist  120 non-null    object\n",
            " 1   Song    120 non-null    object\n",
            " 2   Link    120 non-null    object\n",
            " 3   Lyrics  120 non-null    object\n",
            "dtypes: object(4)\n",
            "memory usage: 3.9+ KB\n",
            "None\n"
          ]
        }
      ],
      "source": [
        "# TODO: Explore the data\n",
        "# Create a DataFrame\n",
        "df = pd.read_csv('/content/drive/MyDrive/Colab_Notebooks/Data_Mining/Thuc_hanh/notebooks and data/coldplay.csv')\n",
        "\n",
        "# Print the summary\n",
        "print(df.info())"
      ]
    },
    {
      "cell_type": "markdown",
      "metadata": {
        "id": "SI47pkCIcGOn"
      },
      "source": [
        "Now using the *CountVectorizer* of scikit-learn, make a BOW of all the lyrics of Coldplay, and print the result."
      ]
    },
    {
      "cell_type": "code",
      "execution_count": 8,
      "metadata": {
        "colab": {
          "base_uri": "https://localhost:8080/"
        },
        "id": "B0AgQGWicGOp",
        "outputId": "b10559af-da2c-4b7d-febb-66ab835d45d2"
      },
      "outputs": [
        {
          "output_type": "stream",
          "name": "stdout",
          "text": [
            "(120, 1776)\n"
          ]
        }
      ],
      "source": [
        "# TODO: Compute a BOW\n",
        "from sklearn.feature_extraction.text import CountVectorizer\n",
        "\n",
        "# Select all the rows for Coldplay songs\n",
        "coldplay_rows = df[df['Artist'] == 'Coldplay']\n",
        "\n",
        "# Get the lyrics text for all the Coldplay songs and save them into a list\n",
        "lyrics_list = coldplay_rows['Lyrics'].tolist()\n",
        "\n",
        "# Create a CountVectorizer object\n",
        "vectorizer = CountVectorizer()\n",
        "\n",
        "# Fit and transform the lyrics into a bag-of-words matrix\n",
        "bow_matrix = vectorizer.fit_transform(lyrics_list)\n",
        "\n",
        "# Print the shape of the bag-of-words matrix\n",
        "print(bow_matrix.shape)"
      ]
    },
    {
      "cell_type": "markdown",
      "metadata": {
        "id": "2pwCbg2vcGOq"
      },
      "source": [
        "Now that we have the BOW matrix, we would like to have a new dataframe having the BOW for each song, and as columns the corresponding words (just as we did in the lecture at the end).\n",
        "\n",
        "So that at the end we would end up with a dataframe containing something like the following (120 raws for 120 songs, and as many columns as words):\n",
        "\n",
        "| | ah | adventure | ... | yeah \n",
        "|---|---|---|---|---| \n",
        "| 0 | 0 | 1 | ... | 4 |\n",
        "| 1 | 8 | 0 | ... | 2 |\n",
        "|...|...|...|...|...|\n",
        "| 119 | 5 | 0 | ... | 8 |"
      ]
    },
    {
      "cell_type": "code",
      "execution_count": 13,
      "metadata": {
        "colab": {
          "base_uri": "https://localhost:8080/"
        },
        "id": "_Ikw1LBbcGOt",
        "outputId": "9c2d4e62-a23d-40ba-e00a-ba40080b7230"
      },
      "outputs": [
        {
          "output_type": "stream",
          "name": "stdout",
          "text": [
            "     10  2000  2gether  76543  aaaaaah  aaaaah  aaaah  about  above  achin  \\\n",
            "0     0     0        0      0        0       0      0      0      0      0   \n",
            "1     0     0        0      0        0       0      0      0      0      0   \n",
            "2     0     0        0      0        0       0      0      0      0      0   \n",
            "3     0     0        0      0        0       0      0      0      0      0   \n",
            "4     0     0        0      0        0       0      0      0      0      0   \n",
            "..   ..   ...      ...    ...      ...     ...    ...    ...    ...    ...   \n",
            "115   0     0        0      0        0       0      0      1      2      0   \n",
            "116   0     0        0      0        0       0      0      0      0      0   \n",
            "117   0     0        1      0        0       0      0      0      0      0   \n",
            "118   0     0        0      0        0       0      0      0      0      0   \n",
            "119   0     0        0      0        0       0      0      0      0      0   \n",
            "\n",
            "     ...  yellow  yes  yesterday  yet  you  young  your  yours  yourself  \\\n",
            "0    ...       0    0          0    0    4      0     4      0         2   \n",
            "1    ...       0    0          0    0    0      0     0      0         0   \n",
            "2    ...       0    0          0    0    0      0     0      0         0   \n",
            "3    ...       0    0          0    0   16      0     0      0         0   \n",
            "4    ...       0    0          0    0    2      0     0      0         0   \n",
            "..   ...     ...  ...        ...  ...  ...    ...   ...    ...       ...   \n",
            "115  ...       0    0          0    0    5      0     3      0         0   \n",
            "116  ...       0    0          0    0    9      0     0      0         0   \n",
            "117  ...       0    0          0    0    7      0     4      0         0   \n",
            "118  ...       0    0          0    0   16      0     1      0         0   \n",
            "119  ...       0    0          0    0    5      0     0      0         0   \n",
            "\n",
            "     yuletide  \n",
            "0           0  \n",
            "1           0  \n",
            "2           0  \n",
            "3           0  \n",
            "4           0  \n",
            "..        ...  \n",
            "115         0  \n",
            "116         0  \n",
            "117         0  \n",
            "118         0  \n",
            "119         0  \n",
            "\n",
            "[120 rows x 1776 columns]\n"
          ]
        }
      ],
      "source": [
        "# TODO: Create a new dataframe containing the BOW outputs and the corresponding words as columns. And print it\n",
        "\n",
        "from sklearn.feature_extraction.text import CountVectorizer\n",
        "\n",
        "# Select all the rows for Coldplay songs\n",
        "coldplay_rows = df[df['Artist'] == 'Coldplay']\n",
        "\n",
        "# Get the lyrics text for all the Coldplay songs and save them into a list\n",
        "lyrics_list = coldplay_rows['Lyrics'].tolist()\n",
        "\n",
        "# Create a CountVectorizer object\n",
        "vectorizer = CountVectorizer()\n",
        "\n",
        "# Fit and transform the lyrics into a bag-of-words matrix\n",
        "bow_matrix = vectorizer.fit_transform(lyrics_list)\n",
        "\n",
        "# Get the feature names (i.e., the vocabulary) of the bag-of-words matrix\n",
        "feature_names = vectorizer.get_feature_names_out()\n",
        "\n",
        "# Convert the bag-of-words matrix to a dense matrix and create a new dataframe\n",
        "bow_df = pd.DataFrame(bow_matrix.toarray(), columns=feature_names)\n",
        "\n",
        "# Print the new dataframe\n",
        "print(bow_df)\n"
      ]
    },
    {
      "cell_type": "markdown",
      "metadata": {
        "id": "7C485kX_cGOx"
      },
      "source": [
        "Well as you see we're still having some issue, we have some tokens that are not words, like '10' or '2000'.\n",
        "\n",
        "To get rid of that, we could use directly regular expressions within the function. Another solution would be to make preprocessing before using the function *CountVectorizer*.\n",
        "\n",
        "For the moment, we won't pay attention to this issue. But if you are curious and have time, you can find on google how to remove those words using the *CountVectorizer*."
      ]
    },
    {
      "cell_type": "markdown",
      "metadata": {
        "id": "fxEv1NBtcGO0"
      },
      "source": [
        "Now we would like to see what are the most used words by Coldplay."
      ]
    },
    {
      "cell_type": "code",
      "execution_count": 14,
      "metadata": {
        "scrolled": true,
        "colab": {
          "base_uri": "https://localhost:8080/",
          "height": 36
        },
        "id": "GS0ipo5IcGO1",
        "outputId": "677f9690-11a6-445d-9fea-e343cdae656a"
      },
      "outputs": [
        {
          "output_type": "execute_result",
          "data": {
            "text/plain": [
              "'you'"
            ],
            "application/vnd.google.colaboratory.intrinsic+json": {
              "type": "string"
            }
          },
          "metadata": {},
          "execution_count": 14
        }
      ],
      "source": [
        "sum_bow = bow_df.sum()\n",
        "sum_bow.idxmax()"
      ]
    },
    {
      "cell_type": "markdown",
      "metadata": {
        "id": "-3G4NKbwcGO5"
      },
      "source": [
        "So what is the most used word? Are you surprised?\n",
        "\n",
        "Now make a sort in order to show the 10 most used."
      ]
    },
    {
      "cell_type": "code",
      "execution_count": 15,
      "metadata": {
        "colab": {
          "base_uri": "https://localhost:8080/"
        },
        "id": "0UjuVvHscGO7",
        "outputId": "25c5412d-c0fc-430b-b9f0-0c3ed04edf40"
      },
      "outputs": [
        {
          "output_type": "stream",
          "name": "stdout",
          "text": [
            "     10  2000  2gether  76543  aaaaaah  aaaaah  aaaah  about  above  achin  \\\n",
            "0     0     0        0      0        0       0      0      0      0      0   \n",
            "1     0     0        0      0        0       0      0      0      0      0   \n",
            "2     0     0        0      0        0       0      0      0      0      0   \n",
            "3     0     0        0      0        0       0      0      0      0      0   \n",
            "4     0     0        0      0        0       0      0      0      0      0   \n",
            "..   ..   ...      ...    ...      ...     ...    ...    ...    ...    ...   \n",
            "115   0     0        0      0        0       0      0      1      2      0   \n",
            "116   0     0        0      0        0       0      0      0      0      0   \n",
            "117   0     0        1      0        0       0      0      0      0      0   \n",
            "118   0     0        0      0        0       0      0      0      0      0   \n",
            "119   0     0        0      0        0       0      0      0      0      0   \n",
            "\n",
            "     ...  yellow  yes  yesterday  yet  you  young  your  yours  yourself  \\\n",
            "0    ...       0    0          0    0    4      0     4      0         2   \n",
            "1    ...       0    0          0    0    0      0     0      0         0   \n",
            "2    ...       0    0          0    0    0      0     0      0         0   \n",
            "3    ...       0    0          0    0   16      0     0      0         0   \n",
            "4    ...       0    0          0    0    2      0     0      0         0   \n",
            "..   ...     ...  ...        ...  ...  ...    ...   ...    ...       ...   \n",
            "115  ...       0    0          0    0    5      0     3      0         0   \n",
            "116  ...       0    0          0    0    9      0     0      0         0   \n",
            "117  ...       0    0          0    0    7      0     4      0         0   \n",
            "118  ...       0    0          0    0   16      0     1      0         0   \n",
            "119  ...       0    0          0    0    5      0     0      0         0   \n",
            "\n",
            "     yuletide  \n",
            "0           0  \n",
            "1           0  \n",
            "2           0  \n",
            "3           0  \n",
            "4           0  \n",
            "..        ...  \n",
            "115         0  \n",
            "116         0  \n",
            "117         0  \n",
            "118         0  \n",
            "119         0  \n",
            "\n",
            "[120 rows x 1776 columns]\n",
            "     word  count\n",
            "1770  you    994\n",
            "1523  the    777\n",
            "39    and    650\n",
            "1571   to    481\n",
            "746    it    458\n",
            "991    oh    334\n",
            "730    in    318\n",
            "892    me    314\n",
            "948    my    288\n",
            "996    on    285\n"
          ]
        }
      ],
      "source": [
        "# TODO: print the 10 most used word by Coldplay\n",
        "\n",
        "import pandas as pd\n",
        "from sklearn.feature_extraction.text import CountVectorizer\n",
        "\n",
        "# Select all the rows for Coldplay songs\n",
        "coldplay_rows = df[df['Artist'] == 'Coldplay']\n",
        "\n",
        "# Get the lyrics text for all the Coldplay songs and save them into a list\n",
        "lyrics_list = coldplay_rows['Lyrics'].tolist()\n",
        "\n",
        "# Create a CountVectorizer object\n",
        "vectorizer = CountVectorizer()\n",
        "\n",
        "# Fit and transform the lyrics into a bag-of-words matrix\n",
        "bow_matrix = vectorizer.fit_transform(lyrics_list)\n",
        "\n",
        "# Get the feature names (i.e., the vocabulary) of the bag-of-words matrix\n",
        "feature_names = vectorizer.get_feature_names_out()\n",
        "\n",
        "# Convert the bag-of-words matrix to a dense matrix and create a new dataframe\n",
        "bow_df = pd.DataFrame(bow_matrix.toarray(), columns=feature_names)\n",
        "\n",
        "# Print the new dataframe\n",
        "print(bow_df)\n",
        "\n",
        "# Create a new dataframe with the word counts and feature names\n",
        "word_counts_df = pd.DataFrame({'word': feature_names, 'count': bow_matrix.sum(axis=0).tolist()[0]})\n",
        "\n",
        "# Sort the dataframe by word count in descending order\n",
        "sorted_word_counts_df = word_counts_df.sort_values('count', ascending=False)\n",
        "\n",
        "# Print the top 10 most used words by Coldplay\n",
        "print(sorted_word_counts_df.head(10))"
      ]
    },
    {
      "cell_type": "code",
      "source": [],
      "metadata": {
        "id": "USVQe4tfeowi"
      },
      "execution_count": null,
      "outputs": []
    },
    {
      "cell_type": "markdown",
      "metadata": {
        "id": "_dgSd6OOcGO9"
      },
      "source": [
        "Here it is! You know the Coldplay lyrics more than the singers now!"
      ]
    }
  ],
  "metadata": {
    "kernelspec": {
      "display_name": "Python 3 (ipykernel)",
      "language": "python",
      "name": "python3"
    },
    "language_info": {
      "codemirror_mode": {
        "name": "ipython",
        "version": 3
      },
      "file_extension": ".py",
      "mimetype": "text/x-python",
      "name": "python",
      "nbconvert_exporter": "python",
      "pygments_lexer": "ipython3",
      "version": "3.9.7"
    },
    "toc": {
      "base_numbering": 1,
      "nav_menu": {},
      "number_sections": true,
      "sideBar": true,
      "skip_h1_title": false,
      "title_cell": "Table of Contents",
      "title_sidebar": "Contents",
      "toc_cell": false,
      "toc_position": {},
      "toc_section_display": true,
      "toc_window_display": false
    },
    "colab": {
      "provenance": []
    }
  },
  "nbformat": 4,
  "nbformat_minor": 0
}