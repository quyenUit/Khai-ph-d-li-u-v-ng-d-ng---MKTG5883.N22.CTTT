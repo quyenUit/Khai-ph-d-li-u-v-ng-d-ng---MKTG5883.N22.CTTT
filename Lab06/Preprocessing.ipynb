{
  "cells": [
    {
      "cell_type": "markdown",
      "metadata": {
        "id": "PzmgcJ6yUS6W"
      },
      "source": [
        "# 01-Preprocessing"
      ]
    },
    {
      "cell_type": "markdown",
      "metadata": {
        "id": "UaqILlIaUS6b"
      },
      "source": [
        "The first NLP exercise is about preprocessing.\n",
        "\n",
        "You will practice preprocessing using NLTK on raw data. \n",
        "This is the first step in most of the NLP projects, so you have to master it."
      ]
    },
    {
      "cell_type": "markdown",
      "metadata": {
        "id": "HdwMcz4OUS6d"
      },
      "source": [
        "We will play with the *coldplay.csv* dataset, containing all the songs and lyrics of Coldplay."
      ]
    },
    {
      "cell_type": "markdown",
      "metadata": {
        "id": "BK5cXBACUS6e"
      },
      "source": [
        "As you know, the first step is to import some libraries. So import *nltk* as well as all the libraries you will need."
      ]
    },
    {
      "cell_type": "code",
      "execution_count": null,
      "metadata": {
        "colab": {
          "base_uri": "https://localhost:8080/"
        },
        "id": "ON2lFNEQUS6e",
        "outputId": "08880f6f-2fb3-4d53-efc6-f1a2ac039db7"
      },
      "outputs": [
        {
          "output_type": "stream",
          "name": "stderr",
          "text": [
            "[nltk_data] Downloading package punkt to /root/nltk_data...\n",
            "[nltk_data]   Unzipping tokenizers/punkt.zip.\n",
            "[nltk_data] Downloading package stopwords to /root/nltk_data...\n",
            "[nltk_data]   Unzipping corpora/stopwords.zip.\n",
            "[nltk_data] Downloading package wordnet to /root/nltk_data...\n",
            "[nltk_data] Downloading package averaged_perceptron_tagger to\n",
            "[nltk_data]     /root/nltk_data...\n",
            "[nltk_data]   Unzipping taggers/averaged_perceptron_tagger.zip.\n"
          ]
        }
      ],
      "source": [
        "# Import NLTK and all the needed libraries\n",
        "import nltk\n",
        "nltk.download('punkt') #Run this line one time to get the resource\n",
        "nltk.download('stopwords') #Run this line one time to get the resource\n",
        "nltk.download('wordnet') #Run this line one time to get the resource\n",
        "nltk.download('averaged_perceptron_tagger') #Run this line one time to get the resource\n",
        "import numpy as np\n",
        "import pandas as pd"
      ]
    },
    {
      "cell_type": "markdown",
      "metadata": {
        "id": "Ufa5OyEUUS6i"
      },
      "source": [
        "Load now the dataset using pandas."
      ]
    },
    {
      "cell_type": "code",
      "execution_count": null,
      "metadata": {
        "colab": {
          "base_uri": "https://localhost:8080/",
          "height": 363
        },
        "id": "UDQqYbPJUS6i",
        "outputId": "a5a56f6c-2498-497f-971c-fa2c54684908"
      },
      "outputs": [
        {
          "output_type": "execute_result",
          "data": {
            "text/plain": [
              "     Artist                           Song  \\\n",
              "0  Coldplay                 Another's Arms   \n",
              "1  Coldplay                Bigger Stronger   \n",
              "2  Coldplay                       Daylight   \n",
              "3  Coldplay                       Everglow   \n",
              "4  Coldplay  Every Teardrop Is A Waterfall   \n",
              "5  Coldplay          Everything's Not Lost   \n",
              "6  Coldplay                        Fix You   \n",
              "7  Coldplay                        For You   \n",
              "8  Coldplay                            Fun   \n",
              "9  Coldplay                    Ghost Story   \n",
              "\n",
              "                                                Link  \\\n",
              "0            /c/coldplay/anothers+arms_21079526.html   \n",
              "1          /c/coldplay/bigger+stronger_20032648.html   \n",
              "2                 /c/coldplay/daylight_20032625.html   \n",
              "3                 /c/coldplay/everglow_21104546.html   \n",
              "4  /c/coldplay/every+teardrop+is+a+waterfall_2091...   \n",
              "5     /c/coldplay/everythings+not+lost_20032638.html   \n",
              "6                  /c/coldplay/fix+you_10069035.html   \n",
              "7                  /c/coldplay/for+you_20032655.html   \n",
              "8                      /c/coldplay/fun_21104545.html   \n",
              "9              /c/coldplay/ghost+story_21083666.html   \n",
              "\n",
              "                                              Lyrics  \n",
              "0  Late night watching tv  \\nUsed to be you here ...  \n",
              "1  I want to be bigger stronger drive a faster ca...  \n",
              "2  To my surprise, and my delight  \\nI saw sunris...  \n",
              "3  Oh, they say people come  \\nThey say people go...  \n",
              "4  I turn the music up, I got my records on  \\nI ...  \n",
              "5  When I'm counting up my demons  \\nSaw there wa...  \n",
              "6  When you try your best but you don't succeed  ...  \n",
              "7  If you're lost and feel alone  \\nCircumnavigat...  \n",
              "8  I know it's over before she says  \\nI know the...  \n",
              "9  Maybe I'm just a ghost  \\nDisappear when anybo...  "
            ],
            "text/html": [
              "\n",
              "  <div id=\"df-b5e9c4db-d81f-4191-86d1-d0a17550e596\">\n",
              "    <div class=\"colab-df-container\">\n",
              "      <div>\n",
              "<style scoped>\n",
              "    .dataframe tbody tr th:only-of-type {\n",
              "        vertical-align: middle;\n",
              "    }\n",
              "\n",
              "    .dataframe tbody tr th {\n",
              "        vertical-align: top;\n",
              "    }\n",
              "\n",
              "    .dataframe thead th {\n",
              "        text-align: right;\n",
              "    }\n",
              "</style>\n",
              "<table border=\"1\" class=\"dataframe\">\n",
              "  <thead>\n",
              "    <tr style=\"text-align: right;\">\n",
              "      <th></th>\n",
              "      <th>Artist</th>\n",
              "      <th>Song</th>\n",
              "      <th>Link</th>\n",
              "      <th>Lyrics</th>\n",
              "    </tr>\n",
              "  </thead>\n",
              "  <tbody>\n",
              "    <tr>\n",
              "      <th>0</th>\n",
              "      <td>Coldplay</td>\n",
              "      <td>Another's Arms</td>\n",
              "      <td>/c/coldplay/anothers+arms_21079526.html</td>\n",
              "      <td>Late night watching tv  \\nUsed to be you here ...</td>\n",
              "    </tr>\n",
              "    <tr>\n",
              "      <th>1</th>\n",
              "      <td>Coldplay</td>\n",
              "      <td>Bigger Stronger</td>\n",
              "      <td>/c/coldplay/bigger+stronger_20032648.html</td>\n",
              "      <td>I want to be bigger stronger drive a faster ca...</td>\n",
              "    </tr>\n",
              "    <tr>\n",
              "      <th>2</th>\n",
              "      <td>Coldplay</td>\n",
              "      <td>Daylight</td>\n",
              "      <td>/c/coldplay/daylight_20032625.html</td>\n",
              "      <td>To my surprise, and my delight  \\nI saw sunris...</td>\n",
              "    </tr>\n",
              "    <tr>\n",
              "      <th>3</th>\n",
              "      <td>Coldplay</td>\n",
              "      <td>Everglow</td>\n",
              "      <td>/c/coldplay/everglow_21104546.html</td>\n",
              "      <td>Oh, they say people come  \\nThey say people go...</td>\n",
              "    </tr>\n",
              "    <tr>\n",
              "      <th>4</th>\n",
              "      <td>Coldplay</td>\n",
              "      <td>Every Teardrop Is A Waterfall</td>\n",
              "      <td>/c/coldplay/every+teardrop+is+a+waterfall_2091...</td>\n",
              "      <td>I turn the music up, I got my records on  \\nI ...</td>\n",
              "    </tr>\n",
              "    <tr>\n",
              "      <th>5</th>\n",
              "      <td>Coldplay</td>\n",
              "      <td>Everything's Not Lost</td>\n",
              "      <td>/c/coldplay/everythings+not+lost_20032638.html</td>\n",
              "      <td>When I'm counting up my demons  \\nSaw there wa...</td>\n",
              "    </tr>\n",
              "    <tr>\n",
              "      <th>6</th>\n",
              "      <td>Coldplay</td>\n",
              "      <td>Fix You</td>\n",
              "      <td>/c/coldplay/fix+you_10069035.html</td>\n",
              "      <td>When you try your best but you don't succeed  ...</td>\n",
              "    </tr>\n",
              "    <tr>\n",
              "      <th>7</th>\n",
              "      <td>Coldplay</td>\n",
              "      <td>For You</td>\n",
              "      <td>/c/coldplay/for+you_20032655.html</td>\n",
              "      <td>If you're lost and feel alone  \\nCircumnavigat...</td>\n",
              "    </tr>\n",
              "    <tr>\n",
              "      <th>8</th>\n",
              "      <td>Coldplay</td>\n",
              "      <td>Fun</td>\n",
              "      <td>/c/coldplay/fun_21104545.html</td>\n",
              "      <td>I know it's over before she says  \\nI know the...</td>\n",
              "    </tr>\n",
              "    <tr>\n",
              "      <th>9</th>\n",
              "      <td>Coldplay</td>\n",
              "      <td>Ghost Story</td>\n",
              "      <td>/c/coldplay/ghost+story_21083666.html</td>\n",
              "      <td>Maybe I'm just a ghost  \\nDisappear when anybo...</td>\n",
              "    </tr>\n",
              "  </tbody>\n",
              "</table>\n",
              "</div>\n",
              "      <button class=\"colab-df-convert\" onclick=\"convertToInteractive('df-b5e9c4db-d81f-4191-86d1-d0a17550e596')\"\n",
              "              title=\"Convert this dataframe to an interactive table.\"\n",
              "              style=\"display:none;\">\n",
              "        \n",
              "  <svg xmlns=\"http://www.w3.org/2000/svg\" height=\"24px\"viewBox=\"0 0 24 24\"\n",
              "       width=\"24px\">\n",
              "    <path d=\"M0 0h24v24H0V0z\" fill=\"none\"/>\n",
              "    <path d=\"M18.56 5.44l.94 2.06.94-2.06 2.06-.94-2.06-.94-.94-2.06-.94 2.06-2.06.94zm-11 1L8.5 8.5l.94-2.06 2.06-.94-2.06-.94L8.5 2.5l-.94 2.06-2.06.94zm10 10l.94 2.06.94-2.06 2.06-.94-2.06-.94-.94-2.06-.94 2.06-2.06.94z\"/><path d=\"M17.41 7.96l-1.37-1.37c-.4-.4-.92-.59-1.43-.59-.52 0-1.04.2-1.43.59L10.3 9.45l-7.72 7.72c-.78.78-.78 2.05 0 2.83L4 21.41c.39.39.9.59 1.41.59.51 0 1.02-.2 1.41-.59l7.78-7.78 2.81-2.81c.8-.78.8-2.07 0-2.86zM5.41 20L4 18.59l7.72-7.72 1.47 1.35L5.41 20z\"/>\n",
              "  </svg>\n",
              "      </button>\n",
              "      \n",
              "  <style>\n",
              "    .colab-df-container {\n",
              "      display:flex;\n",
              "      flex-wrap:wrap;\n",
              "      gap: 12px;\n",
              "    }\n",
              "\n",
              "    .colab-df-convert {\n",
              "      background-color: #E8F0FE;\n",
              "      border: none;\n",
              "      border-radius: 50%;\n",
              "      cursor: pointer;\n",
              "      display: none;\n",
              "      fill: #1967D2;\n",
              "      height: 32px;\n",
              "      padding: 0 0 0 0;\n",
              "      width: 32px;\n",
              "    }\n",
              "\n",
              "    .colab-df-convert:hover {\n",
              "      background-color: #E2EBFA;\n",
              "      box-shadow: 0px 1px 2px rgba(60, 64, 67, 0.3), 0px 1px 3px 1px rgba(60, 64, 67, 0.15);\n",
              "      fill: #174EA6;\n",
              "    }\n",
              "\n",
              "    [theme=dark] .colab-df-convert {\n",
              "      background-color: #3B4455;\n",
              "      fill: #D2E3FC;\n",
              "    }\n",
              "\n",
              "    [theme=dark] .colab-df-convert:hover {\n",
              "      background-color: #434B5C;\n",
              "      box-shadow: 0px 1px 3px 1px rgba(0, 0, 0, 0.15);\n",
              "      filter: drop-shadow(0px 1px 2px rgba(0, 0, 0, 0.3));\n",
              "      fill: #FFFFFF;\n",
              "    }\n",
              "  </style>\n",
              "\n",
              "      <script>\n",
              "        const buttonEl =\n",
              "          document.querySelector('#df-b5e9c4db-d81f-4191-86d1-d0a17550e596 button.colab-df-convert');\n",
              "        buttonEl.style.display =\n",
              "          google.colab.kernel.accessAllowed ? 'block' : 'none';\n",
              "\n",
              "        async function convertToInteractive(key) {\n",
              "          const element = document.querySelector('#df-b5e9c4db-d81f-4191-86d1-d0a17550e596');\n",
              "          const dataTable =\n",
              "            await google.colab.kernel.invokeFunction('convertToInteractive',\n",
              "                                                     [key], {});\n",
              "          if (!dataTable) return;\n",
              "\n",
              "          const docLinkHtml = 'Like what you see? Visit the ' +\n",
              "            '<a target=\"_blank\" href=https://colab.research.google.com/notebooks/data_table.ipynb>data table notebook</a>'\n",
              "            + ' to learn more about interactive tables.';\n",
              "          element.innerHTML = '';\n",
              "          dataTable['output_type'] = 'display_data';\n",
              "          await google.colab.output.renderOutput(dataTable, element);\n",
              "          const docLink = document.createElement('div');\n",
              "          docLink.innerHTML = docLinkHtml;\n",
              "          element.appendChild(docLink);\n",
              "        }\n",
              "      </script>\n",
              "    </div>\n",
              "  </div>\n",
              "  "
            ]
          },
          "metadata": {},
          "execution_count": 4
        }
      ],
      "source": [
        "# TODO: Load the dataset in coldplay.csv\n",
        "data = pd.read_csv('/content/drive/MyDrive/Colab_Notebooks/Data_Mining/Thuc_hanh/notebooks and data/coldplay.csv')\n",
        "data.head(10)"
      ]
    },
    {
      "cell_type": "code",
      "source": [
        "from google.colab import drive\n",
        "drive.mount('/content/drive')"
      ],
      "metadata": {
        "colab": {
          "base_uri": "https://localhost:8080/"
        },
        "id": "zYIBdUkyU-C7",
        "outputId": "e2d1f229-9e9d-4ef7-e0ad-7928121ff793"
      },
      "execution_count": null,
      "outputs": [
        {
          "output_type": "stream",
          "name": "stdout",
          "text": [
            "Mounted at /content/drive\n"
          ]
        }
      ]
    },
    {
      "cell_type": "markdown",
      "metadata": {
        "id": "ktyBxgmnUS6k"
      },
      "source": [
        "Now, check the dataset, play with it a bit: what are the columns? How many lines? Is there missing data?..."
      ]
    },
    {
      "cell_type": "code",
      "execution_count": null,
      "metadata": {
        "colab": {
          "base_uri": "https://localhost:8080/"
        },
        "id": "fOO-j5KTUS6l",
        "outputId": "09f4d53f-d0f7-4a09-e82d-40bcd3e8b51c"
      },
      "outputs": [
        {
          "output_type": "stream",
          "name": "stdout",
          "text": [
            "<class 'pandas.core.frame.DataFrame'>\n",
            "RangeIndex: 120 entries, 0 to 119\n",
            "Data columns (total 4 columns):\n",
            " #   Column  Non-Null Count  Dtype \n",
            "---  ------  --------------  ----- \n",
            " 0   Artist  120 non-null    object\n",
            " 1   Song    120 non-null    object\n",
            " 2   Link    120 non-null    object\n",
            " 3   Lyrics  120 non-null    object\n",
            "dtypes: object(4)\n",
            "memory usage: 3.9+ KB\n",
            "None\n"
          ]
        }
      ],
      "source": [
        "# TODO: Explore the data\n",
        "\n",
        "import pandas as pd\n",
        "\n",
        "# Create a DataFrame\n",
        "df = pd.read_csv('/content/drive/MyDrive/Colab_Notebooks/Data_Mining/Thuc_hanh/notebooks and data/coldplay.csv')\n",
        "\n",
        "# Print the summary\n",
        "print(df.info())\n"
      ]
    },
    {
      "cell_type": "markdown",
      "metadata": {
        "id": "1tQD6ysKUS6m"
      },
      "source": [
        "Now select the song 'Every Teardrop Is A Waterfall' and save the Lyrics text into a variable. Print the output of this variable."
      ]
    },
    {
      "cell_type": "code",
      "execution_count": null,
      "metadata": {
        "colab": {
          "base_uri": "https://localhost:8080/"
        },
        "id": "7SmQC0cQUS6m",
        "outputId": "0aa5da48-9c40-443c-b801-0162d52fd737"
      },
      "outputs": [
        {
          "output_type": "stream",
          "name": "stdout",
          "text": [
            "I turn the music up, I got my records on  \n",
            "I shut the world outside until the lights come on  \n",
            "Maybe the streets alight, maybe the trees are gone  \n",
            "I feel my heart start beating to my favourite song  \n",
            "  \n",
            "And all the kids they dance, all the kids all night  \n",
            "Until Monday morning feels another life  \n",
            "I turn the music up  \n",
            "I'm on a roll this time  \n",
            "And heaven is in sight  \n",
            "  \n",
            "I turn the music up, I got my records on  \n",
            "From underneath the rubble sing a rebel song  \n",
            "Don't want to see another generation drop  \n",
            "I'd rather be a comma than a full stop  \n",
            "  \n",
            "Maybe I'm in the black, maybe I'm on my knees  \n",
            "Maybe I'm in the gap between the two trapezes  \n",
            "But my heart is beating and my pulses start  \n",
            "Cathedrals in my heart  \n",
            "  \n",
            "As we saw oh this light I swear you, emerge blinking into  \n",
            "To tell me it's alright  \n",
            "As we soar walls, every siren is a symphony  \n",
            "And every tear's a waterfall  \n",
            "Is a waterfall  \n",
            "Oh  \n",
            "Is a waterfall  \n",
            "Oh oh oh  \n",
            "Is a is a waterfall  \n",
            "Every tear  \n",
            "Is a waterfall  \n",
            "Oh oh oh  \n",
            "  \n",
            "So you can hurt, hurt me bad  \n",
            "But still I'll raise the flag  \n",
            "  \n",
            "Oh  \n",
            "It was a wa wa wa wa wa-aterfall  \n",
            "A wa wa wa wa wa-aterfall  \n",
            "  \n",
            "Every tear  \n",
            "Every tear  \n",
            "Every teardrop is a waterfall  \n",
            "  \n",
            "Every tear  \n",
            "Every tear  \n",
            "Every teardrop is a waterfall  \n",
            "  \n",
            "Every tear  \n",
            "Every tear  \n",
            "Every teardrop is a waterfall\n",
            "\n",
            "\n"
          ]
        }
      ],
      "source": [
        "# TODO: Select the song 'Every Teardrop Is A Waterfall'\n",
        "song_row = df[df['Song'] == 'Every Teardrop Is A Waterfall']\n",
        "\n",
        "# Get the lyrics text for the selected song and save it into a variable\n",
        "lyrics = song_row['Lyrics'].values[0]\n",
        "\n",
        "# Print the lyrics\n",
        "print(lyrics)"
      ]
    },
    {
      "cell_type": "markdown",
      "metadata": {
        "id": "b3kf6IfkUS6n"
      },
      "source": [
        "As you can see, there is some preprocessing needed here. So let's do it! What is usually the first step?"
      ]
    },
    {
      "cell_type": "markdown",
      "metadata": {
        "id": "BUNBqxLFUS6o"
      },
      "source": [
        "Tokenization, yes. So do tokenization on the lyrics of Every Teardrop Is A Waterfall.\n",
        "\n",
        "So you may have to import the needed library from NLTK if you did not yet.\n",
        "\n",
        "Be careful, the output you have from your pandas dataframe may not have the right type, so manipulate it wisely to get a string."
      ]
    },
    {
      "cell_type": "code",
      "execution_count": null,
      "metadata": {
        "colab": {
          "base_uri": "https://localhost:8080/"
        },
        "id": "fCuCueLOUS6p",
        "outputId": "f8ff079e-b86a-4226-b5c6-bc6d691c198e"
      },
      "outputs": [
        {
          "output_type": "stream",
          "name": "stdout",
          "text": [
            "['I', 'turn', 'the', 'music', 'up', ',', 'I', 'got', 'my', 'records', 'on', 'I', 'shut', 'the', 'world', 'outside', 'until', 'the', 'lights', 'come', 'on', 'Maybe', 'the', 'streets', 'alight', ',', 'maybe', 'the', 'trees', 'are', 'gone', 'I', 'feel', 'my', 'heart', 'start', 'beating', 'to', 'my', 'favourite', 'song', 'And', 'all', 'the', 'kids', 'they', 'dance', ',', 'all', 'the', 'kids', 'all', 'night', 'Until', 'Monday', 'morning', 'feels', 'another', 'life', 'I', 'turn', 'the', 'music', 'up', 'I', \"'m\", 'on', 'a', 'roll', 'this', 'time', 'And', 'heaven', 'is', 'in', 'sight', 'I', 'turn', 'the', 'music', 'up', ',', 'I', 'got', 'my', 'records', 'on', 'From', 'underneath', 'the', 'rubble', 'sing', 'a', 'rebel', 'song', 'Do', \"n't\", 'want', 'to', 'see', 'another', 'generation', 'drop', 'I', \"'d\", 'rather', 'be', 'a', 'comma', 'than', 'a', 'full', 'stop', 'Maybe', 'I', \"'m\", 'in', 'the', 'black', ',', 'maybe', 'I', \"'m\", 'on', 'my', 'knees', 'Maybe', 'I', \"'m\", 'in', 'the', 'gap', 'between', 'the', 'two', 'trapezes', 'But', 'my', 'heart', 'is', 'beating', 'and', 'my', 'pulses', 'start', 'Cathedrals', 'in', 'my', 'heart', 'As', 'we', 'saw', 'oh', 'this', 'light', 'I', 'swear', 'you', ',', 'emerge', 'blinking', 'into', 'To', 'tell', 'me', 'it', \"'s\", 'alright', 'As', 'we', 'soar', 'walls', ',', 'every', 'siren', 'is', 'a', 'symphony', 'And', 'every', 'tear', \"'s\", 'a', 'waterfall', 'Is', 'a', 'waterfall', 'Oh', 'Is', 'a', 'waterfall', 'Oh', 'oh', 'oh', 'Is', 'a', 'is', 'a', 'waterfall', 'Every', 'tear', 'Is', 'a', 'waterfall', 'Oh', 'oh', 'oh', 'So', 'you', 'can', 'hurt', ',', 'hurt', 'me', 'bad', 'But', 'still', 'I', \"'ll\", 'raise', 'the', 'flag', 'Oh', 'It', 'was', 'a', 'wa', 'wa', 'wa', 'wa', 'wa-aterfall', 'A', 'wa', 'wa', 'wa', 'wa', 'wa-aterfall', 'Every', 'tear', 'Every', 'tear', 'Every', 'teardrop', 'is', 'a', 'waterfall', 'Every', 'tear', 'Every', 'tear', 'Every', 'teardrop', 'is', 'a', 'waterfall', 'Every', 'tear', 'Every', 'tear', 'Every', 'teardrop', 'is', 'a', 'waterfall']\n"
          ]
        }
      ],
      "source": [
        "# TODO: Tokenize the lyrics of the song and save the tokens into a variable and print it\n",
        "\n",
        "# Select the row for the song 'Every Teardrop Is A Waterfall'\n",
        "song_row = df[df['Song'] == 'Every Teardrop Is A Waterfall']\n",
        "\n",
        "# Get the lyrics text for the selected song and save it into a variable\n",
        "lyrics = song_row['Lyrics'].values[0]\n",
        "\n",
        "# Tokenize the lyrics and save the tokens into a variable\n",
        "tokens = nltk.word_tokenize(lyrics)\n",
        "\n",
        "# Print the tokens\n",
        "print(tokens)\n"
      ]
    },
    {
      "cell_type": "markdown",
      "metadata": {
        "id": "0Z0r33-4US6q"
      },
      "source": [
        "It begins to look good. But still, we have the punctuation to remove, so let's do this."
      ]
    },
    {
      "cell_type": "code",
      "execution_count": null,
      "metadata": {
        "colab": {
          "base_uri": "https://localhost:8080/"
        },
        "id": "-FTRmdObUS6r",
        "outputId": "bb6bd04d-6680-4500-ae5b-e016fd980b74"
      },
      "outputs": [
        {
          "output_type": "stream",
          "name": "stdout",
          "text": [
            "['I', 'turn', 'the', 'music', 'up', 'I', 'got', 'my', 'records', 'on', 'I', 'shut', 'the', 'world', 'outside', 'until', 'the', 'lights', 'come', 'on', 'Maybe', 'the', 'streets', 'alight', 'maybe', 'the', 'trees', 'are', 'gone', 'I', 'feel', 'my', 'heart', 'start', 'beating', 'to', 'my', 'favourite', 'song', 'And', 'all', 'the', 'kids', 'they', 'dance', 'all', 'the', 'kids', 'all', 'night', 'Until', 'Monday', 'morning', 'feels', 'another', 'life', 'I', 'turn', 'the', 'music', 'up', 'Im', 'on', 'a', 'roll', 'this', 'time', 'And', 'heaven', 'is', 'in', 'sight', 'I', 'turn', 'the', 'music', 'up', 'I', 'got', 'my', 'records', 'on', 'From', 'underneath', 'the', 'rubble', 'sing', 'a', 'rebel', 'song', 'Dont', 'want', 'to', 'see', 'another', 'generation', 'drop', 'Id', 'rather', 'be', 'a', 'comma', 'than', 'a', 'full', 'stop', 'Maybe', 'Im', 'in', 'the', 'black', 'maybe', 'Im', 'on', 'my', 'knees', 'Maybe', 'Im', 'in', 'the', 'gap', 'between', 'the', 'two', 'trapezes', 'But', 'my', 'heart', 'is', 'beating', 'and', 'my', 'pulses', 'start', 'Cathedrals', 'in', 'my', 'heart', 'As', 'we', 'saw', 'oh', 'this', 'light', 'I', 'swear', 'you', 'emerge', 'blinking', 'into', 'To', 'tell', 'me', 'its', 'alright', 'As', 'we', 'soar', 'walls', 'every', 'siren', 'is', 'a', 'symphony', 'And', 'every', 'tears', 'a', 'waterfall', 'Is', 'a', 'waterfall', 'Oh', 'Is', 'a', 'waterfall', 'Oh', 'oh', 'oh', 'Is', 'a', 'is', 'a', 'waterfall', 'Every', 'tear', 'Is', 'a', 'waterfall', 'Oh', 'oh', 'oh', 'So', 'you', 'can', 'hurt', 'hurt', 'me', 'bad', 'But', 'still', 'Ill', 'raise', 'the', 'flag', 'Oh', 'It', 'was', 'a', 'wa', 'wa', 'wa', 'wa', 'waaterfall', 'A', 'wa', 'wa', 'wa', 'wa', 'waaterfall', 'Every', 'tear', 'Every', 'tear', 'Every', 'teardrop', 'is', 'a', 'waterfall', 'Every', 'tear', 'Every', 'tear', 'Every', 'teardrop', 'is', 'a', 'waterfall', 'Every', 'tear', 'Every', 'tear', 'Every', 'teardrop', 'is', 'a', 'waterfall']\n"
          ]
        }
      ],
      "source": [
        "# TODO: Remove the punctuation, then save the result into a variable and print it\n",
        "\n",
        "import string\n",
        "# Select the row for the song 'Every Teardrop Is A Waterfall'\n",
        "song_row = df[df['Song'] == 'Every Teardrop Is A Waterfall']\n",
        "\n",
        "# Get the lyrics text for the selected song and save it into a variable\n",
        "lyrics = song_row['Lyrics'].values[0]\n",
        "\n",
        "# Remove the punctuation from the lyrics\n",
        "lyrics_no_punct = lyrics.translate(str.maketrans(\"\", \"\", string.punctuation))\n",
        "\n",
        "# Tokenize the lyrics without punctuation and save the tokens into a variable\n",
        "tokens = nltk.word_tokenize(lyrics_no_punct)\n",
        "\n",
        "# Print the tokens without punctuation\n",
        "print(tokens)\n"
      ]
    },
    {
      "cell_type": "markdown",
      "metadata": {
        "id": "ZA-KopAuUS6r"
      },
      "source": [
        "We will now remove the stop words."
      ]
    },
    {
      "cell_type": "code",
      "execution_count": null,
      "metadata": {
        "colab": {
          "base_uri": "https://localhost:8080/"
        },
        "id": "6PWumWvjUS6s",
        "outputId": "244417f8-7f25-495a-83d1-e51c2b8ea21d"
      },
      "outputs": [
        {
          "output_type": "stream",
          "name": "stdout",
          "text": [
            "['turn', 'music', 'got', 'records', 'shut', 'world', 'outside', 'lights', 'come', 'Maybe', 'streets', 'alight', 'maybe', 'trees', 'gone', 'feel', 'heart', 'start', 'beating', 'favourite', 'song', 'kids', 'dance', 'kids', 'night', 'Monday', 'morning', 'feels', 'another', 'life', 'turn', 'music', 'Im', 'roll', 'time', 'heaven', 'sight', 'turn', 'music', 'got', 'records', 'underneath', 'rubble', 'sing', 'rebel', 'song', 'Dont', 'want', 'see', 'another', 'generation', 'drop', 'Id', 'rather', 'comma', 'full', 'stop', 'Maybe', 'Im', 'black', 'maybe', 'Im', 'knees', 'Maybe', 'Im', 'gap', 'two', 'trapezes', 'heart', 'beating', 'pulses', 'start', 'Cathedrals', 'heart', 'saw', 'oh', 'light', 'swear', 'emerge', 'blinking', 'tell', 'alright', 'soar', 'walls', 'every', 'siren', 'symphony', 'every', 'tears', 'waterfall', 'waterfall', 'Oh', 'waterfall', 'Oh', 'oh', 'oh', 'waterfall', 'Every', 'tear', 'waterfall', 'Oh', 'oh', 'oh', 'hurt', 'hurt', 'bad', 'still', 'Ill', 'raise', 'flag', 'Oh', 'wa', 'wa', 'wa', 'wa', 'waaterfall', 'wa', 'wa', 'wa', 'wa', 'waaterfall', 'Every', 'tear', 'Every', 'tear', 'Every', 'teardrop', 'waterfall', 'Every', 'tear', 'Every', 'tear', 'Every', 'teardrop', 'waterfall', 'Every', 'tear', 'Every', 'tear', 'Every', 'teardrop', 'waterfall']\n"
          ]
        }
      ],
      "source": [
        "# TODO: remove the stop words using NLTK. Then put the result into a variable and print it\n",
        "\n",
        "# Select the row for the song 'Every Teardrop Is A Waterfall'\n",
        "song_row = df[df['Song'] == 'Every Teardrop Is A Waterfall']\n",
        "\n",
        "# Get the lyrics text for the selected song and save it into a variable\n",
        "lyrics = song_row['Lyrics'].values[0]\n",
        "\n",
        "# Remove the punctuation from the lyrics\n",
        "lyrics_no_punct = lyrics.translate(str.maketrans(\"\", \"\", string.punctuation))\n",
        "\n",
        "# Tokenize the lyrics without punctuation\n",
        "tokens = nltk.word_tokenize(lyrics_no_punct)\n",
        "\n",
        "# Remove the stop words from the tokens\n",
        "stopwords = nltk.corpus.stopwords.words(\"english\")\n",
        "tokens_no_stopwords = [token for token in tokens if token.lower() not in stopwords]\n",
        "\n",
        "# Print the tokens without punctuation and stop words\n",
        "print(tokens_no_stopwords)\n"
      ]
    },
    {
      "cell_type": "markdown",
      "metadata": {
        "id": "BR_0SVYhUS6s"
      },
      "source": [
        "Okay we begin to have much less words in our song, right?\n",
        "\n",
        "Next step is lemmatization. But we had an issue in the lectures, you remember? Let's learn how to do it properly now.\n",
        "\n",
        "First let's try to do it naively. Import the WordNetLemmatizer and perform lemmatization with default options."
      ]
    },
    {
      "cell_type": "code",
      "execution_count": null,
      "metadata": {
        "colab": {
          "base_uri": "https://localhost:8080/"
        },
        "id": "ItT-xUBjUS6t",
        "outputId": "fab64c0a-b089-40b3-c104-e7d2e90931da"
      },
      "outputs": [
        {
          "output_type": "stream",
          "name": "stdout",
          "text": [
            "['turn', 'music', 'got', 'record', 'shut', 'world', 'outside', 'light', 'come', 'Maybe', 'street', 'alight', 'maybe', 'tree', 'gone', 'feel', 'heart', 'start', 'beating', 'favourite', 'song', 'kid', 'dance', 'kid', 'night', 'Monday', 'morning', 'feel', 'another', 'life', 'turn', 'music', 'Im', 'roll', 'time', 'heaven', 'sight', 'turn', 'music', 'got', 'record', 'underneath', 'rubble', 'sing', 'rebel', 'song', 'Dont', 'want', 'see', 'another', 'generation', 'drop', 'Id', 'rather', 'comma', 'full', 'stop', 'Maybe', 'Im', 'black', 'maybe', 'Im', 'knee', 'Maybe', 'Im', 'gap', 'two', 'trapeze', 'heart', 'beating', 'pulse', 'start', 'Cathedrals', 'heart', 'saw', 'oh', 'light', 'swear', 'emerge', 'blinking', 'tell', 'alright', 'soar', 'wall', 'every', 'siren', 'symphony', 'every', 'tear', 'waterfall', 'waterfall', 'Oh', 'waterfall', 'Oh', 'oh', 'oh', 'waterfall', 'Every', 'tear', 'waterfall', 'Oh', 'oh', 'oh', 'hurt', 'hurt', 'bad', 'still', 'Ill', 'raise', 'flag', 'Oh', 'wa', 'wa', 'wa', 'wa', 'waaterfall', 'wa', 'wa', 'wa', 'wa', 'waaterfall', 'Every', 'tear', 'Every', 'tear', 'Every', 'teardrop', 'waterfall', 'Every', 'tear', 'Every', 'tear', 'Every', 'teardrop', 'waterfall', 'Every', 'tear', 'Every', 'tear', 'Every', 'teardrop', 'waterfall']\n"
          ]
        }
      ],
      "source": [
        "# TODO: Perform lemmatization using WordNetLemmatizer on our tokens\n",
        "\n",
        "# Select the row for the song 'Every Teardrop Is A Waterfall'\n",
        "song_row = df[df['Song'] == 'Every Teardrop Is A Waterfall']\n",
        "\n",
        "# Get the lyrics text for the selected song and save it into a variable\n",
        "lyrics = song_row['Lyrics'].values[0]\n",
        "\n",
        "# Remove the punctuation from the lyrics\n",
        "lyrics_no_punct = lyrics.translate(str.maketrans(\"\", \"\", string.punctuation))\n",
        "\n",
        "# Tokenize the lyrics without punctuation and stop words\n",
        "tokens = nltk.word_tokenize(lyrics_no_punct)\n",
        "stopwords = nltk.corpus.stopwords.words(\"english\")\n",
        "tokens_no_stopwords = [token for token in tokens if token.lower() not in stopwords]\n",
        "\n",
        "# Perform lemmatization on the tokens\n",
        "lemmatizer = nltk.WordNetLemmatizer()\n",
        "tokens_lemmatized = [lemmatizer.lemmatize(token) for token in tokens_no_stopwords]\n",
        "\n",
        "# Print the lemmatized tokens\n",
        "print(tokens_lemmatized)\n"
      ]
    },
    {
      "cell_type": "markdown",
      "metadata": {
        "id": "5aIezs-CUS6u"
      },
      "source": [
        "As you can see, it worked well on nouns (plural words are now singular \n",
        "\n",
        "---\n",
        "\n",
        "for example).\n",
        "\n",
        "---\n",
        "\n",
        "\n",
        "\n",
        "---\n",
        "\n",
        "\n",
        "\n",
        "---\n",
        "\n",
        "\n",
        "\n",
        "---\n",
        "\n",
        "\n",
        "\n",
        "But verbs are not OK: we would 'is' to become 'be' for example.\n",
        "\n",
        "To do that, we need to do POS-tagging. So let's do this now."
      ]
    },
    {
      "cell_type": "markdown",
      "metadata": {
        "id": "Rcia_X-_US6u"
      },
      "source": [
        "POS-tagging means Part of speech tagging: basically it will classify words into categories: like verbs, nouns, advers and so on...\n",
        "\n",
        "In order to do that, we will use NLTK and the function *pos_tag*. You have to do it on the step before lemmatization, so use your variable containing all the tokens without punctuation and without stop words.\n",
        "\n",
        "Hint: you can check on the internet how the *pos_tag* function works [here](https://www.nltk.org/book/ch05.html)"
      ]
    },
    {
      "cell_type": "code",
      "execution_count": null,
      "metadata": {
        "colab": {
          "base_uri": "https://localhost:8080/"
        },
        "id": "dAjP992vUS6u",
        "outputId": "1ab45050-95ff-4ec7-ba83-caa58f5a7fcd"
      },
      "outputs": [
        {
          "output_type": "stream",
          "name": "stdout",
          "text": [
            "[('turn', 'NN'), ('music', 'NN'), ('got', 'VBD'), ('records', 'NNS'), ('shut', 'VBN'), ('world', 'NN'), ('outside', 'IN'), ('lights', 'NNS'), ('come', 'VBP'), ('Maybe', 'RB'), ('streets', 'NNS'), ('alight', 'VBD'), ('maybe', 'RB'), ('trees', 'NNS'), ('gone', 'VBN'), ('feel', 'JJ'), ('heart', 'NN'), ('start', 'NN'), ('beating', 'VBG'), ('favourite', 'NN'), ('song', 'NN'), ('kids', 'NNS'), ('dance', 'NN'), ('kids', 'NNS'), ('night', 'NN'), ('Monday', 'NNP'), ('morning', 'NN'), ('feels', 'NNS'), ('another', 'DT'), ('life', 'NN'), ('turn', 'NN'), ('music', 'NN'), ('Im', 'NNP'), ('roll', 'NN'), ('time', 'NN'), ('heaven', 'JJ'), ('sight', 'VBD'), ('turn', 'NN'), ('music', 'NN'), ('got', 'VBD'), ('records', 'NNS'), ('underneath', 'IN'), ('rubble', 'JJ'), ('sing', 'VBG'), ('rebel', 'NN'), ('song', 'NN'), ('Dont', 'NNP'), ('want', 'NN'), ('see', 'NN'), ('another', 'DT'), ('generation', 'NN'), ('drop', 'NN'), ('Id', 'NNP'), ('rather', 'RB'), ('comma', 'VBZ'), ('full', 'JJ'), ('stop', 'NN'), ('Maybe', 'NNP'), ('Im', 'NNP'), ('black', 'JJ'), ('maybe', 'RB'), ('Im', 'NNP'), ('knees', 'NNS'), ('Maybe', 'RB'), ('Im', 'NNP'), ('gap', 'NN'), ('two', 'CD'), ('trapezes', 'JJ'), ('heart', 'NN'), ('beating', 'NN'), ('pulses', 'NNS'), ('start', 'VBP'), ('Cathedrals', 'NNP'), ('heart', 'NN'), ('saw', 'VBD'), ('oh', 'JJ'), ('light', 'JJ'), ('swear', 'JJ'), ('emerge', 'NN'), ('blinking', 'VBG'), ('tell', 'VB'), ('alright', 'JJ'), ('soar', 'NN'), ('walls', 'NNS'), ('every', 'DT'), ('siren', 'NN'), ('symphony', 'NN'), ('every', 'DT'), ('tears', 'NNS'), ('waterfall', 'VBP'), ('waterfall', 'JJ'), ('Oh', 'NNP'), ('waterfall', 'NN'), ('Oh', 'NNP'), ('oh', 'VBZ'), ('oh', 'UH'), ('waterfall', 'NN'), ('Every', 'NNP'), ('tear', 'NN'), ('waterfall', 'NN'), ('Oh', 'NNP'), ('oh', 'VBZ'), ('oh', 'JJ'), ('hurt', 'NN'), ('hurt', 'VBD'), ('bad', 'JJ'), ('still', 'RB'), ('Ill', 'NNP'), ('raise', 'VB'), ('flag', 'NN'), ('Oh', 'NNP'), ('wa', 'NN'), ('wa', 'NN'), ('wa', 'NN'), ('wa', 'VBP'), ('waaterfall', 'NN'), ('wa', 'NN'), ('wa', 'NN'), ('wa', 'NN'), ('wa', 'VBP'), ('waaterfall', 'NN'), ('Every', 'NNP'), ('tear', 'NN'), ('Every', 'NNP'), ('tear', 'NN'), ('Every', 'NNP'), ('teardrop', 'NN'), ('waterfall', 'NN'), ('Every', 'NNP'), ('tear', 'NN'), ('Every', 'NNP'), ('tear', 'NN'), ('Every', 'NNP'), ('teardrop', 'NN'), ('waterfall', 'NN'), ('Every', 'NNP'), ('tear', 'NN'), ('Every', 'NNP'), ('tear', 'NN'), ('Every', 'NNP'), ('teardrop', 'NN'), ('waterfall', 'NN')]\n"
          ]
        }
      ],
      "source": [
        "# TODO: use the function pos_tag of NLTK to perform POS-tagging and print the result\n",
        "\n",
        "# Select the row for the song 'Every Teardrop Is A Waterfall'\n",
        "song_row = df[df['Song'] == 'Every Teardrop Is A Waterfall']\n",
        "\n",
        "# Get the lyrics text for the selected song and save it into a variable\n",
        "lyrics = song_row['Lyrics'].values[0]\n",
        "\n",
        "# Remove the punctuation from the lyrics\n",
        "lyrics_no_punct = lyrics.translate(str.maketrans(\"\", \"\", string.punctuation))\n",
        "\n",
        "# Tokenize the lyrics without punctuation and stop words\n",
        "tokens = nltk.word_tokenize(lyrics_no_punct)\n",
        "stopwords = nltk.corpus.stopwords.words(\"english\")\n",
        "tokens_no_stopwords = [token for token in tokens if token.lower() not in stopwords]\n",
        "\n",
        "# Perform POS-tagging on the tokens\n",
        "pos_tags = nltk.pos_tag(tokens_no_stopwords)\n",
        "\n",
        "# Print the POS-tags\n",
        "print(pos_tags)\n"
      ]
    },
    {
      "cell_type": "markdown",
      "metadata": {
        "id": "8546o4YGUS6v"
      },
      "source": [
        "As you can see, it does not return values like 'a', 'n', 'v' or 'r' as the WordNet lemmatizer is expecting...\n",
        "\n",
        "So we have to convert the values from the NLTK POS-tagging to put them into the WordNet Lemmatizer. This is done in the function *get_wordnet_pos* written below. Try to understand it, and then we will reuse it."
      ]
    },
    {
      "cell_type": "code",
      "execution_count": null,
      "metadata": {
        "id": "fdDePxD4US6w"
      },
      "outputs": [],
      "source": [
        "from nltk.corpus import wordnet\n",
        "\n",
        "def get_wordnet_pos(pos_tag):\n",
        "    output = np.asarray(pos_tag)\n",
        "    for i in range(len(pos_tag)):\n",
        "        if pos_tag[i][1].startswith('J'):\n",
        "            output[i][1] = wordnet.ADJ\n",
        "        elif pos_tag[i][1].startswith('V'):\n",
        "            output[i][1] = wordnet.VERB\n",
        "        elif pos_tag[i][1].startswith('R'):\n",
        "            output[i][1] = wordnet.ADV\n",
        "        else:\n",
        "            output[i][1] = wordnet.NOUN\n",
        "    return output"
      ]
    },
    {
      "cell_type": "markdown",
      "metadata": {
        "id": "ZLn4as5zUS6x"
      },
      "source": [
        "So now you have all we need to perform properly the lemmatization.\n",
        "\n",
        "So you have to use the following to do so:\n",
        "* your tags from the POS-tagging performed\n",
        "* the function *get_wordnet_pos*\n",
        "* the *WordNetLemmatizer*"
      ]
    },
    {
      "cell_type": "code",
      "execution_count": null,
      "metadata": {
        "scrolled": true,
        "colab": {
          "base_uri": "https://localhost:8080/"
        },
        "id": "G-GBmmGeUS6x",
        "outputId": "b5c71e6c-a6d4-476a-f2fe-57e454a26499"
      },
      "outputs": [
        {
          "output_type": "stream",
          "name": "stdout",
          "text": [
            "['turn', 'music', 'get', 'record', 'shut', 'world', 'outside', 'light', 'come', 'Maybe', 'street', 'alight', 'maybe', 'tree', 'go', 'feel', 'heart', 'start', 'beat', 'favourite', 'song', 'kid', 'dance', 'kid', 'night', 'Monday', 'morning', 'feel', 'another', 'life', 'turn', 'music', 'Im', 'roll', 'time', 'heaven', 'sight', 'turn', 'music', 'get', 'record', 'underneath', 'rubble', 'sing', 'rebel', 'song', 'Dont', 'want', 'see', 'another', 'generation', 'drop', 'Id', 'rather', 'comma', 'full', 'stop', 'Maybe', 'Im', 'black', 'maybe', 'Im', 'knee', 'Maybe', 'Im', 'gap', 'two', 'trapezes', 'heart', 'beating', 'pulse', 'start', 'Cathedrals', 'heart', 'saw', 'oh', 'light', 'swear', 'emerge', 'blink', 'tell', 'alright', 'soar', 'wall', 'every', 'siren', 'symphony', 'every', 'tear', 'waterfall', 'waterfall', 'Oh', 'waterfall', 'Oh', 'oh', 'oh', 'waterfall', 'Every', 'tear', 'waterfall', 'Oh', 'oh', 'oh', 'hurt', 'hurt', 'bad', 'still', 'Ill', 'raise', 'flag', 'Oh', 'wa', 'wa', 'wa', 'wa', 'waaterfall', 'wa', 'wa', 'wa', 'wa', 'waaterfall', 'Every', 'tear', 'Every', 'tear', 'Every', 'teardrop', 'waterfall', 'Every', 'tear', 'Every', 'tear', 'Every', 'teardrop', 'waterfall', 'Every', 'tear', 'Every', 'tear', 'Every', 'teardrop', 'waterfall']\n"
          ]
        }
      ],
      "source": [
        "# TODO: Perform the lemmatization properly\n",
        "\n",
        "\n",
        "from nltk.stem import WordNetLemmatizer\n",
        "# Select the row for the song 'Every Teardrop Is A Waterfall'\n",
        "song_row = df[df['Song'] == 'Every Teardrop Is A Waterfall']\n",
        "\n",
        "# Get the lyrics text for the selected song and save it into a variable\n",
        "lyrics = song_row['Lyrics'].values[0]\n",
        "\n",
        "# Remove the punctuation from the lyrics\n",
        "lyrics_no_punct = lyrics.translate(str.maketrans(\"\", \"\", string.punctuation))\n",
        "\n",
        "# Tokenize the lyrics without punctuation and stop words\n",
        "tokens = nltk.word_tokenize(lyrics_no_punct)\n",
        "stopwords = nltk.corpus.stopwords.words(\"english\")\n",
        "tokens_no_stopwords = [token for token in tokens if token.lower() not in stopwords]\n",
        "\n",
        "# Perform POS-tagging on the tokens\n",
        "pos_tags = nltk.pos_tag(tokens_no_stopwords)\n",
        "\n",
        "# Create a WordNetLemmatizer object\n",
        "lemmatizer = WordNetLemmatizer()\n",
        "\n",
        "# Perform lemmatization on the tokens with proper POS tagging\n",
        "lemmatized_tokens = []\n",
        "for token, pos in pos_tags:\n",
        "    if pos.startswith('J'):\n",
        "        # Adjective\n",
        "        lemma = lemmatizer.lemmatize(token, pos='a')\n",
        "    elif pos.startswith('V'):\n",
        "        # Verb\n",
        "        lemma = lemmatizer.lemmatize(token, pos='v')\n",
        "    elif pos.startswith('N'):\n",
        "        # Noun\n",
        "        lemma = lemmatizer.lemmatize(token, pos='n')\n",
        "    elif pos.startswith('R'):\n",
        "        # Adverb\n",
        "        lemma = lemmatizer.lemmatize(token, pos='r')\n",
        "    else:\n",
        "        # Default to noun\n",
        "        lemma = lemmatizer.lemmatize(token)\n",
        "    lemmatized_tokens.append(lemma)\n",
        "\n",
        "# Print the lemmatized tokens\n",
        "print(lemmatized_tokens)\n"
      ]
    },
    {
      "cell_type": "markdown",
      "metadata": {
        "id": "SauBVrTAUS6y"
      },
      "source": [
        "What do you think?\n",
        "\n",
        "Still not perfect, but it's the best we can do for now."
      ]
    },
    {
      "cell_type": "markdown",
      "metadata": {
        "id": "ACJc7T1oUS6y"
      },
      "source": [
        "Now you can try stemming, with the help of the lecture, and see the differences compared to the lemmatization"
      ]
    },
    {
      "cell_type": "code",
      "execution_count": null,
      "metadata": {
        "colab": {
          "base_uri": "https://localhost:8080/"
        },
        "id": "xVeXcWPgUS6z",
        "outputId": "89f08fc5-d17e-439f-c2b0-7711ab832549"
      },
      "outputs": [
        {
          "output_type": "stream",
          "name": "stdout",
          "text": [
            "['turn', 'music', 'got', 'record', 'shut', 'world', 'outsid', 'light', 'come', 'mayb', 'street', 'alight', 'mayb', 'tree', 'gone', 'feel', 'heart', 'start', 'beat', 'favourit', 'song', 'kid', 'danc', 'kid', 'night', 'monday', 'morn', 'feel', 'anoth', 'life', 'turn', 'music', 'im', 'roll', 'time', 'heaven', 'sight', 'turn', 'music', 'got', 'record', 'underneath', 'rubbl', 'sing', 'rebel', 'song', 'dont', 'want', 'see', 'anoth', 'gener', 'drop', 'id', 'rather', 'comma', 'full', 'stop', 'mayb', 'im', 'black', 'mayb', 'im', 'knee', 'mayb', 'im', 'gap', 'two', 'trapez', 'heart', 'beat', 'puls', 'start', 'cathedr', 'heart', 'saw', 'oh', 'light', 'swear', 'emerg', 'blink', 'tell', 'alright', 'soar', 'wall', 'everi', 'siren', 'symphoni', 'everi', 'tear', 'waterfal', 'waterfal', 'oh', 'waterfal', 'oh', 'oh', 'oh', 'waterfal', 'everi', 'tear', 'waterfal', 'oh', 'oh', 'oh', 'hurt', 'hurt', 'bad', 'still', 'ill', 'rais', 'flag', 'oh', 'wa', 'wa', 'wa', 'wa', 'waaterfal', 'wa', 'wa', 'wa', 'wa', 'waaterfal', 'everi', 'tear', 'everi', 'tear', 'everi', 'teardrop', 'waterfal', 'everi', 'tear', 'everi', 'tear', 'everi', 'teardrop', 'waterfal', 'everi', 'tear', 'everi', 'tear', 'everi', 'teardrop', 'waterfal']\n"
          ]
        }
      ],
      "source": [
        "# TODO: Perform stemming\n",
        "\n",
        "from nltk.stem import PorterStemmer\n",
        "\n",
        "# Select the row for the song 'Every Teardrop Is A Waterfall'\n",
        "song_row = df[df['Song'] == 'Every Teardrop Is A Waterfall']\n",
        "\n",
        "# Get the lyrics text for the selected song and save it into a variable\n",
        "lyrics = song_row['Lyrics'].values[0]\n",
        "\n",
        "# Remove the punctuation from the lyrics\n",
        "lyrics_no_punct = lyrics.translate(str.maketrans(\"\", \"\", string.punctuation))\n",
        "\n",
        "# Tokenize the lyrics without punctuation and stop words\n",
        "tokens = nltk.word_tokenize(lyrics_no_punct)\n",
        "stopwords = nltk.corpus.stopwords.words(\"english\")\n",
        "tokens_no_stopwords = [token for token in tokens if token.lower() not in stopwords]\n",
        "\n",
        "# Perform stemming on the tokens\n",
        "stemmer = PorterStemmer()\n",
        "stemmed_tokens = [stemmer.stem(token) for token in tokens_no_stopwords]\n",
        "\n",
        "# Print the stemmed tokens\n",
        "print(stemmed_tokens)\n"
      ]
    },
    {
      "cell_type": "markdown",
      "metadata": {
        "id": "xuajn4mQUS6z"
      },
      "source": [
        "Do you see the difference? What would you use?"
      ]
    }
  ],
  "metadata": {
    "kernelspec": {
      "display_name": "Python 3 (ipykernel)",
      "language": "python",
      "name": "python3"
    },
    "language_info": {
      "codemirror_mode": {
        "name": "ipython",
        "version": 3
      },
      "file_extension": ".py",
      "mimetype": "text/x-python",
      "name": "python",
      "nbconvert_exporter": "python",
      "pygments_lexer": "ipython3",
      "version": "3.9.7"
    },
    "toc": {
      "base_numbering": 1,
      "nav_menu": {},
      "number_sections": true,
      "sideBar": true,
      "skip_h1_title": false,
      "title_cell": "Table of Contents",
      "title_sidebar": "Contents",
      "toc_cell": false,
      "toc_position": {},
      "toc_section_display": true,
      "toc_window_display": false
    },
    "colab": {
      "provenance": []
    }
  },
  "nbformat": 4,
  "nbformat_minor": 0
}